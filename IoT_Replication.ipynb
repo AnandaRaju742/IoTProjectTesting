{
  "nbformat": 4,
  "nbformat_minor": 0,
  "metadata": {
    "colab": {
      "name": "IoT_Replication.ipynb",
      "provenance": []
    },
    "kernelspec": {
      "name": "python3",
      "display_name": "Python 3"
    }
  },
  "cells": [
    {
      "cell_type": "code",
      "metadata": {
        "id": "2kz4pPvIMPqY"
      },
      "source": [
        "!cp /content/drive/MyDrive/propotion.csv /content/dataset_13.csv"
      ],
      "execution_count": null,
      "outputs": []
    },
    {
      "cell_type": "code",
      "metadata": {
        "id": "zJUSnX-NMo_q"
      },
      "source": [
        "import pandas as pd\n",
        "import numpy as np\n",
        "import seaborn as sns"
      ],
      "execution_count": null,
      "outputs": []
    },
    {
      "cell_type": "code",
      "metadata": {
        "id": "gMfSx7o8NUKc"
      },
      "source": [
        "df=pd.read_csv('dataset_13.csv')#13 means going to make 13 features from 85 in dataset"
      ],
      "execution_count": null,
      "outputs": []
    },
    {
      "cell_type": "code",
      "metadata": {
        "colab": {
          "base_uri": "https://localhost:8080/",
          "height": 676
        },
        "id": "DkbaQRzJNvUq",
        "outputId": "13a4b452-f084-43c1-fb93-2544fc01e2db"
      },
      "source": [
        "print('Number of rows'+str(df.count()))\n",
        "df.head()"
      ],
      "execution_count": null,
      "outputs": [
        {
          "output_type": "stream",
          "text": [
            "Number of rowsUnnamed: 0    1083995\n",
            "Flow ID       1083995\n",
            "Src IP        1083995\n",
            "Src Port      1083995\n",
            "Dst IP        1083995\n",
            "               ...   \n",
            "Idle Mean     1083995\n",
            "Idle Std      1083995\n",
            "Idle Max      1083995\n",
            "Idle Min      1083995\n",
            "Label         1083995\n",
            "Length: 85, dtype: int64\n"
          ],
          "name": "stdout"
        },
        {
          "output_type": "execute_result",
          "data": {
            "text/html": [
              "<div>\n",
              "<style scoped>\n",
              "    .dataframe tbody tr th:only-of-type {\n",
              "        vertical-align: middle;\n",
              "    }\n",
              "\n",
              "    .dataframe tbody tr th {\n",
              "        vertical-align: top;\n",
              "    }\n",
              "\n",
              "    .dataframe thead th {\n",
              "        text-align: right;\n",
              "    }\n",
              "</style>\n",
              "<table border=\"1\" class=\"dataframe\">\n",
              "  <thead>\n",
              "    <tr style=\"text-align: right;\">\n",
              "      <th></th>\n",
              "      <th>Unnamed: 0</th>\n",
              "      <th>Flow ID</th>\n",
              "      <th>Src IP</th>\n",
              "      <th>Src Port</th>\n",
              "      <th>Dst IP</th>\n",
              "      <th>Dst Port</th>\n",
              "      <th>Protocol</th>\n",
              "      <th>Timestamp</th>\n",
              "      <th>Flow Duration</th>\n",
              "      <th>Total Fwd Packet</th>\n",
              "      <th>Total Bwd packets</th>\n",
              "      <th>Total Length of Fwd Packet</th>\n",
              "      <th>Total Length of Bwd Packet</th>\n",
              "      <th>Fwd Packet Length Max</th>\n",
              "      <th>Fwd Packet Length Min</th>\n",
              "      <th>Fwd Packet Length Mean</th>\n",
              "      <th>Fwd Packet Length Std</th>\n",
              "      <th>Bwd Packet Length Max</th>\n",
              "      <th>Bwd Packet Length Min</th>\n",
              "      <th>Bwd Packet Length Mean</th>\n",
              "      <th>Bwd Packet Length Std</th>\n",
              "      <th>Flow Bytes/s</th>\n",
              "      <th>Flow Packets/s</th>\n",
              "      <th>Flow IAT Mean</th>\n",
              "      <th>Flow IAT Std</th>\n",
              "      <th>Flow IAT Max</th>\n",
              "      <th>Flow IAT Min</th>\n",
              "      <th>Fwd IAT Total</th>\n",
              "      <th>Fwd IAT Mean</th>\n",
              "      <th>Fwd IAT Std</th>\n",
              "      <th>Fwd IAT Max</th>\n",
              "      <th>Fwd IAT Min</th>\n",
              "      <th>Bwd IAT Total</th>\n",
              "      <th>Bwd IAT Mean</th>\n",
              "      <th>Bwd IAT Std</th>\n",
              "      <th>Bwd IAT Max</th>\n",
              "      <th>Bwd IAT Min</th>\n",
              "      <th>Fwd PSH Flags</th>\n",
              "      <th>Bwd PSH Flags</th>\n",
              "      <th>Fwd URG Flags</th>\n",
              "      <th>...</th>\n",
              "      <th>Packet Length Min</th>\n",
              "      <th>Packet Length Max</th>\n",
              "      <th>Packet Length Mean</th>\n",
              "      <th>Packet Length Std</th>\n",
              "      <th>Packet Length Variance</th>\n",
              "      <th>FIN Flag Count</th>\n",
              "      <th>SYN Flag Count</th>\n",
              "      <th>RST Flag Count</th>\n",
              "      <th>PSH Flag Count</th>\n",
              "      <th>ACK Flag Count</th>\n",
              "      <th>URG Flag Count</th>\n",
              "      <th>CWR Flag Count</th>\n",
              "      <th>ECE Flag Count</th>\n",
              "      <th>Down/Up Ratio</th>\n",
              "      <th>Average Packet Size</th>\n",
              "      <th>Fwd Segment Size Avg</th>\n",
              "      <th>Bwd Segment Size Avg</th>\n",
              "      <th>Fwd Bytes/Bulk Avg</th>\n",
              "      <th>Fwd Packet/Bulk Avg</th>\n",
              "      <th>Fwd Bulk Rate Avg</th>\n",
              "      <th>Bwd Bytes/Bulk Avg</th>\n",
              "      <th>Bwd Packet/Bulk Avg</th>\n",
              "      <th>Bwd Bulk Rate Avg</th>\n",
              "      <th>Subflow Fwd Packets</th>\n",
              "      <th>Subflow Fwd Bytes</th>\n",
              "      <th>Subflow Bwd Packets</th>\n",
              "      <th>Subflow Bwd Bytes</th>\n",
              "      <th>FWD Init Win Bytes</th>\n",
              "      <th>Bwd Init Win Bytes</th>\n",
              "      <th>Fwd Act Data Pkts</th>\n",
              "      <th>Fwd Seg Size Min</th>\n",
              "      <th>Active Mean</th>\n",
              "      <th>Active Std</th>\n",
              "      <th>Active Max</th>\n",
              "      <th>Active Min</th>\n",
              "      <th>Idle Mean</th>\n",
              "      <th>Idle Std</th>\n",
              "      <th>Idle Max</th>\n",
              "      <th>Idle Min</th>\n",
              "      <th>Label</th>\n",
              "    </tr>\n",
              "  </thead>\n",
              "  <tbody>\n",
              "    <tr>\n",
              "      <th>0</th>\n",
              "      <td>0</td>\n",
              "      <td>192.168.100.150-192.168.100.3-54088-80-6</td>\n",
              "      <td>192.168.100.150</td>\n",
              "      <td>54088</td>\n",
              "      <td>192.168.100.3</td>\n",
              "      <td>80</td>\n",
              "      <td>6</td>\n",
              "      <td>04/06/2018 09:02:01 AM</td>\n",
              "      <td>5005025</td>\n",
              "      <td>4</td>\n",
              "      <td>4</td>\n",
              "      <td>757.0</td>\n",
              "      <td>494.0</td>\n",
              "      <td>757.0</td>\n",
              "      <td>0.0</td>\n",
              "      <td>189.25</td>\n",
              "      <td>378.5</td>\n",
              "      <td>494.0</td>\n",
              "      <td>0.0</td>\n",
              "      <td>123.5</td>\n",
              "      <td>247.0</td>\n",
              "      <td>249.948801</td>\n",
              "      <td>1.598394</td>\n",
              "      <td>715003.571429</td>\n",
              "      <td>1.891259e+06</td>\n",
              "      <td>5003976.0</td>\n",
              "      <td>41.0</td>\n",
              "      <td>1049.0</td>\n",
              "      <td>349.666667</td>\n",
              "      <td>447.906612</td>\n",
              "      <td>865.0</td>\n",
              "      <td>54.0</td>\n",
              "      <td>5004950.0</td>\n",
              "      <td>1.668317e+06</td>\n",
              "      <td>2.888814e+06</td>\n",
              "      <td>5004032.0</td>\n",
              "      <td>150.0</td>\n",
              "      <td>0</td>\n",
              "      <td>0</td>\n",
              "      <td>0</td>\n",
              "      <td>...</td>\n",
              "      <td>0.0</td>\n",
              "      <td>757.0</td>\n",
              "      <td>139.000000</td>\n",
              "      <td>283.548056</td>\n",
              "      <td>80399.500000</td>\n",
              "      <td>1</td>\n",
              "      <td>2</td>\n",
              "      <td>0</td>\n",
              "      <td>2</td>\n",
              "      <td>7</td>\n",
              "      <td>0</td>\n",
              "      <td>0</td>\n",
              "      <td>0</td>\n",
              "      <td>1.0</td>\n",
              "      <td>156.375</td>\n",
              "      <td>189.25</td>\n",
              "      <td>123.5</td>\n",
              "      <td>0</td>\n",
              "      <td>0</td>\n",
              "      <td>0</td>\n",
              "      <td>0</td>\n",
              "      <td>0</td>\n",
              "      <td>0</td>\n",
              "      <td>0</td>\n",
              "      <td>94</td>\n",
              "      <td>0</td>\n",
              "      <td>61</td>\n",
              "      <td>29200</td>\n",
              "      <td>239</td>\n",
              "      <td>1</td>\n",
              "      <td>32</td>\n",
              "      <td>1049.0</td>\n",
              "      <td>0.0</td>\n",
              "      <td>1049.0</td>\n",
              "      <td>1049.0</td>\n",
              "      <td>7.640515e+14</td>\n",
              "      <td>1.080532e+15</td>\n",
              "      <td>1.528103e+15</td>\n",
              "      <td>5003976.0</td>\n",
              "      <td>DDoS_HTTP</td>\n",
              "    </tr>\n",
              "    <tr>\n",
              "      <th>1</th>\n",
              "      <td>1</td>\n",
              "      <td>192.168.100.150-192.168.100.3-54092-80-6</td>\n",
              "      <td>192.168.100.150</td>\n",
              "      <td>54092</td>\n",
              "      <td>192.168.100.3</td>\n",
              "      <td>80</td>\n",
              "      <td>6</td>\n",
              "      <td>04/06/2018 09:02:01 AM</td>\n",
              "      <td>5003987</td>\n",
              "      <td>4</td>\n",
              "      <td>4</td>\n",
              "      <td>570.0</td>\n",
              "      <td>494.0</td>\n",
              "      <td>570.0</td>\n",
              "      <td>0.0</td>\n",
              "      <td>142.50</td>\n",
              "      <td>285.0</td>\n",
              "      <td>494.0</td>\n",
              "      <td>0.0</td>\n",
              "      <td>123.5</td>\n",
              "      <td>247.0</td>\n",
              "      <td>212.630448</td>\n",
              "      <td>1.598725</td>\n",
              "      <td>714855.285714</td>\n",
              "      <td>1.890986e+06</td>\n",
              "      <td>5003208.0</td>\n",
              "      <td>19.0</td>\n",
              "      <td>779.0</td>\n",
              "      <td>259.666667</td>\n",
              "      <td>370.216603</td>\n",
              "      <td>687.0</td>\n",
              "      <td>36.0</td>\n",
              "      <td>5003968.0</td>\n",
              "      <td>1.667989e+06</td>\n",
              "      <td>2.888404e+06</td>\n",
              "      <td>5003231.0</td>\n",
              "      <td>108.0</td>\n",
              "      <td>0</td>\n",
              "      <td>0</td>\n",
              "      <td>0</td>\n",
              "      <td>...</td>\n",
              "      <td>0.0</td>\n",
              "      <td>570.0</td>\n",
              "      <td>118.222222</td>\n",
              "      <td>235.358120</td>\n",
              "      <td>55393.444444</td>\n",
              "      <td>1</td>\n",
              "      <td>2</td>\n",
              "      <td>0</td>\n",
              "      <td>2</td>\n",
              "      <td>7</td>\n",
              "      <td>0</td>\n",
              "      <td>0</td>\n",
              "      <td>0</td>\n",
              "      <td>1.0</td>\n",
              "      <td>133.000</td>\n",
              "      <td>142.50</td>\n",
              "      <td>123.5</td>\n",
              "      <td>0</td>\n",
              "      <td>0</td>\n",
              "      <td>0</td>\n",
              "      <td>0</td>\n",
              "      <td>0</td>\n",
              "      <td>0</td>\n",
              "      <td>0</td>\n",
              "      <td>71</td>\n",
              "      <td>0</td>\n",
              "      <td>61</td>\n",
              "      <td>29200</td>\n",
              "      <td>236</td>\n",
              "      <td>1</td>\n",
              "      <td>32</td>\n",
              "      <td>779.0</td>\n",
              "      <td>0.0</td>\n",
              "      <td>779.0</td>\n",
              "      <td>779.0</td>\n",
              "      <td>7.640515e+14</td>\n",
              "      <td>1.080532e+15</td>\n",
              "      <td>1.528103e+15</td>\n",
              "      <td>5003208.0</td>\n",
              "      <td>DDoS_HTTP</td>\n",
              "    </tr>\n",
              "    <tr>\n",
              "      <th>2</th>\n",
              "      <td>2</td>\n",
              "      <td>192.168.100.150-192.168.100.3-54090-80-6</td>\n",
              "      <td>192.168.100.150</td>\n",
              "      <td>54090</td>\n",
              "      <td>192.168.100.3</td>\n",
              "      <td>80</td>\n",
              "      <td>6</td>\n",
              "      <td>04/06/2018 09:02:01 AM</td>\n",
              "      <td>5004541</td>\n",
              "      <td>4</td>\n",
              "      <td>4</td>\n",
              "      <td>423.0</td>\n",
              "      <td>494.0</td>\n",
              "      <td>423.0</td>\n",
              "      <td>0.0</td>\n",
              "      <td>105.75</td>\n",
              "      <td>211.5</td>\n",
              "      <td>494.0</td>\n",
              "      <td>0.0</td>\n",
              "      <td>123.5</td>\n",
              "      <td>247.0</td>\n",
              "      <td>183.233587</td>\n",
              "      <td>1.598548</td>\n",
              "      <td>714934.428571</td>\n",
              "      <td>1.891074e+06</td>\n",
              "      <td>5003487.0</td>\n",
              "      <td>3.0</td>\n",
              "      <td>1054.0</td>\n",
              "      <td>351.333333</td>\n",
              "      <td>220.302822</td>\n",
              "      <td>498.0</td>\n",
              "      <td>98.0</td>\n",
              "      <td>5004508.0</td>\n",
              "      <td>1.668169e+06</td>\n",
              "      <td>2.888532e+06</td>\n",
              "      <td>5003559.0</td>\n",
              "      <td>423.0</td>\n",
              "      <td>0</td>\n",
              "      <td>0</td>\n",
              "      <td>0</td>\n",
              "      <td>...</td>\n",
              "      <td>0.0</td>\n",
              "      <td>494.0</td>\n",
              "      <td>101.888889</td>\n",
              "      <td>202.957166</td>\n",
              "      <td>41191.611111</td>\n",
              "      <td>1</td>\n",
              "      <td>2</td>\n",
              "      <td>0</td>\n",
              "      <td>2</td>\n",
              "      <td>7</td>\n",
              "      <td>0</td>\n",
              "      <td>0</td>\n",
              "      <td>0</td>\n",
              "      <td>1.0</td>\n",
              "      <td>114.625</td>\n",
              "      <td>105.75</td>\n",
              "      <td>123.5</td>\n",
              "      <td>0</td>\n",
              "      <td>0</td>\n",
              "      <td>0</td>\n",
              "      <td>0</td>\n",
              "      <td>0</td>\n",
              "      <td>0</td>\n",
              "      <td>0</td>\n",
              "      <td>52</td>\n",
              "      <td>0</td>\n",
              "      <td>61</td>\n",
              "      <td>29200</td>\n",
              "      <td>235</td>\n",
              "      <td>1</td>\n",
              "      <td>32</td>\n",
              "      <td>1054.0</td>\n",
              "      <td>0.0</td>\n",
              "      <td>1054.0</td>\n",
              "      <td>1054.0</td>\n",
              "      <td>7.640515e+14</td>\n",
              "      <td>1.080532e+15</td>\n",
              "      <td>1.528103e+15</td>\n",
              "      <td>5003487.0</td>\n",
              "      <td>DDoS_HTTP</td>\n",
              "    </tr>\n",
              "    <tr>\n",
              "      <th>3</th>\n",
              "      <td>3</td>\n",
              "      <td>192.168.100.150-192.168.100.3-54094-80-6</td>\n",
              "      <td>192.168.100.150</td>\n",
              "      <td>54094</td>\n",
              "      <td>192.168.100.3</td>\n",
              "      <td>80</td>\n",
              "      <td>6</td>\n",
              "      <td>04/06/2018 09:02:01 AM</td>\n",
              "      <td>5003664</td>\n",
              "      <td>4</td>\n",
              "      <td>4</td>\n",
              "      <td>410.0</td>\n",
              "      <td>494.0</td>\n",
              "      <td>410.0</td>\n",
              "      <td>0.0</td>\n",
              "      <td>102.50</td>\n",
              "      <td>205.0</td>\n",
              "      <td>494.0</td>\n",
              "      <td>0.0</td>\n",
              "      <td>123.5</td>\n",
              "      <td>247.0</td>\n",
              "      <td>180.667607</td>\n",
              "      <td>1.598828</td>\n",
              "      <td>714809.142857</td>\n",
              "      <td>1.890917e+06</td>\n",
              "      <td>5003005.0</td>\n",
              "      <td>28.0</td>\n",
              "      <td>659.0</td>\n",
              "      <td>219.666667</td>\n",
              "      <td>294.253859</td>\n",
              "      <td>559.0</td>\n",
              "      <td>35.0</td>\n",
              "      <td>5003633.0</td>\n",
              "      <td>1.667878e+06</td>\n",
              "      <td>2.888329e+06</td>\n",
              "      <td>5003033.0</td>\n",
              "      <td>97.0</td>\n",
              "      <td>0</td>\n",
              "      <td>0</td>\n",
              "      <td>0</td>\n",
              "      <td>...</td>\n",
              "      <td>0.0</td>\n",
              "      <td>494.0</td>\n",
              "      <td>100.444444</td>\n",
              "      <td>200.416511</td>\n",
              "      <td>40166.777778</td>\n",
              "      <td>1</td>\n",
              "      <td>2</td>\n",
              "      <td>0</td>\n",
              "      <td>2</td>\n",
              "      <td>7</td>\n",
              "      <td>0</td>\n",
              "      <td>0</td>\n",
              "      <td>0</td>\n",
              "      <td>1.0</td>\n",
              "      <td>113.000</td>\n",
              "      <td>102.50</td>\n",
              "      <td>123.5</td>\n",
              "      <td>0</td>\n",
              "      <td>0</td>\n",
              "      <td>0</td>\n",
              "      <td>0</td>\n",
              "      <td>0</td>\n",
              "      <td>0</td>\n",
              "      <td>0</td>\n",
              "      <td>51</td>\n",
              "      <td>0</td>\n",
              "      <td>61</td>\n",
              "      <td>29200</td>\n",
              "      <td>235</td>\n",
              "      <td>1</td>\n",
              "      <td>32</td>\n",
              "      <td>659.0</td>\n",
              "      <td>0.0</td>\n",
              "      <td>659.0</td>\n",
              "      <td>659.0</td>\n",
              "      <td>7.640515e+14</td>\n",
              "      <td>1.080532e+15</td>\n",
              "      <td>1.528103e+15</td>\n",
              "      <td>5003005.0</td>\n",
              "      <td>DDoS_HTTP</td>\n",
              "    </tr>\n",
              "    <tr>\n",
              "      <th>4</th>\n",
              "      <td>4</td>\n",
              "      <td>192.168.100.150-192.168.100.3-54096-80-6</td>\n",
              "      <td>192.168.100.150</td>\n",
              "      <td>54096</td>\n",
              "      <td>192.168.100.3</td>\n",
              "      <td>80</td>\n",
              "      <td>6</td>\n",
              "      <td>04/06/2018 09:02:01 AM</td>\n",
              "      <td>5003007</td>\n",
              "      <td>4</td>\n",
              "      <td>4</td>\n",
              "      <td>478.0</td>\n",
              "      <td>494.0</td>\n",
              "      <td>478.0</td>\n",
              "      <td>0.0</td>\n",
              "      <td>119.50</td>\n",
              "      <td>239.0</td>\n",
              "      <td>494.0</td>\n",
              "      <td>0.0</td>\n",
              "      <td>123.5</td>\n",
              "      <td>247.0</td>\n",
              "      <td>194.283158</td>\n",
              "      <td>1.599038</td>\n",
              "      <td>714715.285714</td>\n",
              "      <td>1.890751e+06</td>\n",
              "      <td>5002535.0</td>\n",
              "      <td>21.0</td>\n",
              "      <td>472.0</td>\n",
              "      <td>157.333333</td>\n",
              "      <td>204.417057</td>\n",
              "      <td>393.0</td>\n",
              "      <td>28.0</td>\n",
              "      <td>5002986.0</td>\n",
              "      <td>1.667662e+06</td>\n",
              "      <td>2.888106e+06</td>\n",
              "      <td>5002560.0</td>\n",
              "      <td>79.0</td>\n",
              "      <td>0</td>\n",
              "      <td>0</td>\n",
              "      <td>0</td>\n",
              "      <td>...</td>\n",
              "      <td>0.0</td>\n",
              "      <td>494.0</td>\n",
              "      <td>108.000000</td>\n",
              "      <td>214.343183</td>\n",
              "      <td>45943.000000</td>\n",
              "      <td>1</td>\n",
              "      <td>2</td>\n",
              "      <td>0</td>\n",
              "      <td>2</td>\n",
              "      <td>7</td>\n",
              "      <td>0</td>\n",
              "      <td>0</td>\n",
              "      <td>0</td>\n",
              "      <td>1.0</td>\n",
              "      <td>121.500</td>\n",
              "      <td>119.50</td>\n",
              "      <td>123.5</td>\n",
              "      <td>0</td>\n",
              "      <td>0</td>\n",
              "      <td>0</td>\n",
              "      <td>0</td>\n",
              "      <td>0</td>\n",
              "      <td>0</td>\n",
              "      <td>0</td>\n",
              "      <td>59</td>\n",
              "      <td>0</td>\n",
              "      <td>61</td>\n",
              "      <td>29200</td>\n",
              "      <td>235</td>\n",
              "      <td>1</td>\n",
              "      <td>32</td>\n",
              "      <td>472.0</td>\n",
              "      <td>0.0</td>\n",
              "      <td>472.0</td>\n",
              "      <td>472.0</td>\n",
              "      <td>7.640515e+14</td>\n",
              "      <td>1.080532e+15</td>\n",
              "      <td>1.528103e+15</td>\n",
              "      <td>5002535.0</td>\n",
              "      <td>DDoS_HTTP</td>\n",
              "    </tr>\n",
              "  </tbody>\n",
              "</table>\n",
              "<p>5 rows × 85 columns</p>\n",
              "</div>"
            ],
            "text/plain": [
              "   Unnamed: 0                                   Flow ID  ...   Idle Min      Label\n",
              "0           0  192.168.100.150-192.168.100.3-54088-80-6  ...  5003976.0  DDoS_HTTP\n",
              "1           1  192.168.100.150-192.168.100.3-54092-80-6  ...  5003208.0  DDoS_HTTP\n",
              "2           2  192.168.100.150-192.168.100.3-54090-80-6  ...  5003487.0  DDoS_HTTP\n",
              "3           3  192.168.100.150-192.168.100.3-54094-80-6  ...  5003005.0  DDoS_HTTP\n",
              "4           4  192.168.100.150-192.168.100.3-54096-80-6  ...  5002535.0  DDoS_HTTP\n",
              "\n",
              "[5 rows x 85 columns]"
            ]
          },
          "metadata": {
            "tags": []
          },
          "execution_count": 4
        }
      ]
    },
    {
      "cell_type": "code",
      "metadata": {
        "colab": {
          "base_uri": "https://localhost:8080/",
          "height": 545
        },
        "id": "KZvnzcEWOAJ_",
        "outputId": "6fc57e0e-c8e1-4901-9b2c-6023f654cb54"
      },
      "source": [
        "ax=sns.countplot(df['Label'])\n",
        "ax.set_xticklabels(labels=ax.get_xticklabels(),rotation=30)"
      ],
      "execution_count": null,
      "outputs": [
        {
          "output_type": "stream",
          "text": [
            "/usr/local/lib/python3.6/dist-packages/seaborn/_decorators.py:43: FutureWarning: Pass the following variable as a keyword arg: x. From version 0.12, the only valid positional argument will be `data`, and passing other arguments without an explicit keyword will result in an error or misinterpretation.\n",
            "  FutureWarning\n"
          ],
          "name": "stderr"
        },
        {
          "output_type": "execute_result",
          "data": {
            "text/plain": [
              "[Text(0, 0, 'DDoS_HTTP'),\n",
              " Text(0, 0, 'DDoS_TCP'),\n",
              " Text(0, 0, 'DDoS_UDP'),\n",
              " Text(0, 0, 'Data_Exfiltration'),\n",
              " Text(0, 0, 'DoS_HTTP'),\n",
              " Text(0, 0, 'DoS_TCP'),\n",
              " Text(0, 0, 'DoS_UDP'),\n",
              " Text(0, 0, 'Keylogging'),\n",
              " Text(0, 0, 'OS_Scan'),\n",
              " Text(0, 0, 'Service_Scan')]"
            ]
          },
          "metadata": {
            "tags": []
          },
          "execution_count": 7
        },
        {
          "output_type": "display_data",
          "data": {
            "image/png": "[encoded data removed]",
            "text/plain": [
              "<Figure size 432x288 with 1 Axes>"
            ]
          },
          "metadata": {
            "tags": [],
            "needs_background": "light"
          }
        }
      ]
    },
    {
      "cell_type": "code",
      "metadata": {
        "id": "N9GOUCifZUXM"
      },
      "source": [
        "df =df[~df.isin([np.nan, np.inf, -np.inf]).any(1)]"
      ],
      "execution_count": null,
      "outputs": []
    },
    {
      "cell_type": "code",
      "metadata": {
        "colab": {
          "base_uri": "https://localhost:8080/"
        },
        "id": "2DHN0Z-w57ar",
        "outputId": "cddf471d-8b86-4979-9d0e-54babbfea700"
      },
      "source": [
        "print('After removing nan instances, Now the number of rows is'+str(df.count()))"
      ],
      "execution_count": null,
      "outputs": [
        {
          "output_type": "stream",
          "text": [
            "After removing nan instances, Now the number of rows isUnnamed: 0    1083858\n",
            "Flow ID       1083858\n",
            "Src IP        1083858\n",
            "Src Port      1083858\n",
            "Dst IP        1083858\n",
            "               ...   \n",
            "Idle Mean     1083858\n",
            "Idle Std      1083858\n",
            "Idle Max      1083858\n",
            "Idle Min      1083858\n",
            "Label         1083858\n",
            "Length: 85, dtype: int64\n"
          ],
          "name": "stdout"
        }
      ]
    },
    {
      "cell_type": "code",
      "metadata": {
        "colab": {
          "base_uri": "https://localhost:8080/",
          "height": 250
        },
        "id": "MFDF2VV9hz2-",
        "outputId": "59648f2c-0bd9-403c-ab91-bf2e2927a5bf"
      },
      "source": [
        "df.iloc[0:2,:30]"
      ],
      "execution_count": null,
      "outputs": [
        {
          "output_type": "execute_result",
          "data": {
            "text/html": [
              "<div>\n",
              "<style scoped>\n",
              "    .dataframe tbody tr th:only-of-type {\n",
              "        vertical-align: middle;\n",
              "    }\n",
              "\n",
              "    .dataframe tbody tr th {\n",
              "        vertical-align: top;\n",
              "    }\n",
              "\n",
              "    .dataframe thead th {\n",
              "        text-align: right;\n",
              "    }\n",
              "</style>\n",
              "<table border=\"1\" class=\"dataframe\">\n",
              "  <thead>\n",
              "    <tr style=\"text-align: right;\">\n",
              "      <th></th>\n",
              "      <th>Unnamed: 0</th>\n",
              "      <th>Flow ID</th>\n",
              "      <th>Src IP</th>\n",
              "      <th>Src Port</th>\n",
              "      <th>Dst IP</th>\n",
              "      <th>Dst Port</th>\n",
              "      <th>Protocol</th>\n",
              "      <th>Timestamp</th>\n",
              "      <th>Flow Duration</th>\n",
              "      <th>Total Fwd Packet</th>\n",
              "      <th>Total Bwd packets</th>\n",
              "      <th>Total Length of Fwd Packet</th>\n",
              "      <th>Total Length of Bwd Packet</th>\n",
              "      <th>Fwd Packet Length Max</th>\n",
              "      <th>Fwd Packet Length Min</th>\n",
              "      <th>Fwd Packet Length Mean</th>\n",
              "      <th>Fwd Packet Length Std</th>\n",
              "      <th>Bwd Packet Length Max</th>\n",
              "      <th>Bwd Packet Length Min</th>\n",
              "      <th>Bwd Packet Length Mean</th>\n",
              "      <th>Bwd Packet Length Std</th>\n",
              "      <th>Flow Bytes/s</th>\n",
              "      <th>Flow Packets/s</th>\n",
              "      <th>Flow IAT Mean</th>\n",
              "      <th>Flow IAT Std</th>\n",
              "      <th>Flow IAT Max</th>\n",
              "      <th>Flow IAT Min</th>\n",
              "      <th>Fwd IAT Total</th>\n",
              "      <th>Fwd IAT Mean</th>\n",
              "      <th>Fwd IAT Std</th>\n",
              "    </tr>\n",
              "  </thead>\n",
              "  <tbody>\n",
              "    <tr>\n",
              "      <th>0</th>\n",
              "      <td>0</td>\n",
              "      <td>192.168.100.150-192.168.100.3-54088-80-6</td>\n",
              "      <td>192.168.100.150</td>\n",
              "      <td>54088</td>\n",
              "      <td>192.168.100.3</td>\n",
              "      <td>80</td>\n",
              "      <td>6</td>\n",
              "      <td>04/06/2018 09:02:01 AM</td>\n",
              "      <td>5005025</td>\n",
              "      <td>4</td>\n",
              "      <td>4</td>\n",
              "      <td>757.0</td>\n",
              "      <td>494.0</td>\n",
              "      <td>757.0</td>\n",
              "      <td>0.0</td>\n",
              "      <td>189.25</td>\n",
              "      <td>378.5</td>\n",
              "      <td>494.0</td>\n",
              "      <td>0.0</td>\n",
              "      <td>123.5</td>\n",
              "      <td>247.0</td>\n",
              "      <td>249.948801</td>\n",
              "      <td>1.598394</td>\n",
              "      <td>715003.571429</td>\n",
              "      <td>1.891259e+06</td>\n",
              "      <td>5003976.0</td>\n",
              "      <td>41.0</td>\n",
              "      <td>1049.0</td>\n",
              "      <td>349.666667</td>\n",
              "      <td>447.906612</td>\n",
              "    </tr>\n",
              "    <tr>\n",
              "      <th>1</th>\n",
              "      <td>1</td>\n",
              "      <td>192.168.100.150-192.168.100.3-54092-80-6</td>\n",
              "      <td>192.168.100.150</td>\n",
              "      <td>54092</td>\n",
              "      <td>192.168.100.3</td>\n",
              "      <td>80</td>\n",
              "      <td>6</td>\n",
              "      <td>04/06/2018 09:02:01 AM</td>\n",
              "      <td>5003987</td>\n",
              "      <td>4</td>\n",
              "      <td>4</td>\n",
              "      <td>570.0</td>\n",
              "      <td>494.0</td>\n",
              "      <td>570.0</td>\n",
              "      <td>0.0</td>\n",
              "      <td>142.50</td>\n",
              "      <td>285.0</td>\n",
              "      <td>494.0</td>\n",
              "      <td>0.0</td>\n",
              "      <td>123.5</td>\n",
              "      <td>247.0</td>\n",
              "      <td>212.630448</td>\n",
              "      <td>1.598725</td>\n",
              "      <td>714855.285714</td>\n",
              "      <td>1.890986e+06</td>\n",
              "      <td>5003208.0</td>\n",
              "      <td>19.0</td>\n",
              "      <td>779.0</td>\n",
              "      <td>259.666667</td>\n",
              "      <td>370.216603</td>\n",
              "    </tr>\n",
              "  </tbody>\n",
              "</table>\n",
              "</div>"
            ],
            "text/plain": [
              "   Unnamed: 0  ... Fwd IAT Std\n",
              "0           0  ...  447.906612\n",
              "1           1  ...  370.216603\n",
              "\n",
              "[2 rows x 30 columns]"
            ]
          },
          "metadata": {
            "tags": []
          },
          "execution_count": 10
        }
      ]
    },
    {
      "cell_type": "code",
      "metadata": {
        "colab": {
          "base_uri": "https://localhost:8080/",
          "height": 182
        },
        "id": "zG2wqgvhZhUK",
        "outputId": "59a98655-685c-486f-bf26-cc0ee93902cd"
      },
      "source": [
        "df.iloc[0:2,30:]"
      ],
      "execution_count": null,
      "outputs": [
        {
          "output_type": "execute_result",
          "data": {
            "text/html": [
              "<div>\n",
              "<style scoped>\n",
              "    .dataframe tbody tr th:only-of-type {\n",
              "        vertical-align: middle;\n",
              "    }\n",
              "\n",
              "    .dataframe tbody tr th {\n",
              "        vertical-align: top;\n",
              "    }\n",
              "\n",
              "    .dataframe thead th {\n",
              "        text-align: right;\n",
              "    }\n",
              "</style>\n",
              "<table border=\"1\" class=\"dataframe\">\n",
              "  <thead>\n",
              "    <tr style=\"text-align: right;\">\n",
              "      <th></th>\n",
              "      <th>Fwd IAT Max</th>\n",
              "      <th>Fwd IAT Min</th>\n",
              "      <th>Bwd IAT Total</th>\n",
              "      <th>Bwd IAT Mean</th>\n",
              "      <th>Bwd IAT Std</th>\n",
              "      <th>Bwd IAT Max</th>\n",
              "      <th>Bwd IAT Min</th>\n",
              "      <th>Fwd PSH Flags</th>\n",
              "      <th>Bwd PSH Flags</th>\n",
              "      <th>Fwd URG Flags</th>\n",
              "      <th>Bwd URG Flags</th>\n",
              "      <th>Fwd Header Length</th>\n",
              "      <th>Bwd Header Length</th>\n",
              "      <th>Fwd Packets/s</th>\n",
              "      <th>Bwd Packets/s</th>\n",
              "      <th>Packet Length Min</th>\n",
              "      <th>Packet Length Max</th>\n",
              "      <th>Packet Length Mean</th>\n",
              "      <th>Packet Length Std</th>\n",
              "      <th>Packet Length Variance</th>\n",
              "      <th>FIN Flag Count</th>\n",
              "      <th>SYN Flag Count</th>\n",
              "      <th>RST Flag Count</th>\n",
              "      <th>PSH Flag Count</th>\n",
              "      <th>ACK Flag Count</th>\n",
              "      <th>URG Flag Count</th>\n",
              "      <th>CWR Flag Count</th>\n",
              "      <th>ECE Flag Count</th>\n",
              "      <th>Down/Up Ratio</th>\n",
              "      <th>Average Packet Size</th>\n",
              "      <th>Fwd Segment Size Avg</th>\n",
              "      <th>Bwd Segment Size Avg</th>\n",
              "      <th>Fwd Bytes/Bulk Avg</th>\n",
              "      <th>Fwd Packet/Bulk Avg</th>\n",
              "      <th>Fwd Bulk Rate Avg</th>\n",
              "      <th>Bwd Bytes/Bulk Avg</th>\n",
              "      <th>Bwd Packet/Bulk Avg</th>\n",
              "      <th>Bwd Bulk Rate Avg</th>\n",
              "      <th>Subflow Fwd Packets</th>\n",
              "      <th>Subflow Fwd Bytes</th>\n",
              "      <th>Subflow Bwd Packets</th>\n",
              "      <th>Subflow Bwd Bytes</th>\n",
              "      <th>FWD Init Win Bytes</th>\n",
              "      <th>Bwd Init Win Bytes</th>\n",
              "      <th>Fwd Act Data Pkts</th>\n",
              "      <th>Fwd Seg Size Min</th>\n",
              "      <th>Active Mean</th>\n",
              "      <th>Active Std</th>\n",
              "      <th>Active Max</th>\n",
              "      <th>Active Min</th>\n",
              "      <th>Idle Mean</th>\n",
              "      <th>Idle Std</th>\n",
              "      <th>Idle Max</th>\n",
              "      <th>Idle Min</th>\n",
              "      <th>Label</th>\n",
              "    </tr>\n",
              "  </thead>\n",
              "  <tbody>\n",
              "    <tr>\n",
              "      <th>0</th>\n",
              "      <td>865.0</td>\n",
              "      <td>54.0</td>\n",
              "      <td>5004950.0</td>\n",
              "      <td>1.668317e+06</td>\n",
              "      <td>2.888814e+06</td>\n",
              "      <td>5004032.0</td>\n",
              "      <td>150.0</td>\n",
              "      <td>0</td>\n",
              "      <td>0</td>\n",
              "      <td>0</td>\n",
              "      <td>0</td>\n",
              "      <td>136</td>\n",
              "      <td>136</td>\n",
              "      <td>0.799197</td>\n",
              "      <td>0.799197</td>\n",
              "      <td>0.0</td>\n",
              "      <td>757.0</td>\n",
              "      <td>139.000000</td>\n",
              "      <td>283.548056</td>\n",
              "      <td>80399.500000</td>\n",
              "      <td>1</td>\n",
              "      <td>2</td>\n",
              "      <td>0</td>\n",
              "      <td>2</td>\n",
              "      <td>7</td>\n",
              "      <td>0</td>\n",
              "      <td>0</td>\n",
              "      <td>0</td>\n",
              "      <td>1.0</td>\n",
              "      <td>156.375</td>\n",
              "      <td>189.25</td>\n",
              "      <td>123.5</td>\n",
              "      <td>0</td>\n",
              "      <td>0</td>\n",
              "      <td>0</td>\n",
              "      <td>0</td>\n",
              "      <td>0</td>\n",
              "      <td>0</td>\n",
              "      <td>0</td>\n",
              "      <td>94</td>\n",
              "      <td>0</td>\n",
              "      <td>61</td>\n",
              "      <td>29200</td>\n",
              "      <td>239</td>\n",
              "      <td>1</td>\n",
              "      <td>32</td>\n",
              "      <td>1049.0</td>\n",
              "      <td>0.0</td>\n",
              "      <td>1049.0</td>\n",
              "      <td>1049.0</td>\n",
              "      <td>7.640515e+14</td>\n",
              "      <td>1.080532e+15</td>\n",
              "      <td>1.528103e+15</td>\n",
              "      <td>5003976.0</td>\n",
              "      <td>DDoS_HTTP</td>\n",
              "    </tr>\n",
              "    <tr>\n",
              "      <th>1</th>\n",
              "      <td>687.0</td>\n",
              "      <td>36.0</td>\n",
              "      <td>5003968.0</td>\n",
              "      <td>1.667989e+06</td>\n",
              "      <td>2.888404e+06</td>\n",
              "      <td>5003231.0</td>\n",
              "      <td>108.0</td>\n",
              "      <td>0</td>\n",
              "      <td>0</td>\n",
              "      <td>0</td>\n",
              "      <td>0</td>\n",
              "      <td>136</td>\n",
              "      <td>136</td>\n",
              "      <td>0.799363</td>\n",
              "      <td>0.799363</td>\n",
              "      <td>0.0</td>\n",
              "      <td>570.0</td>\n",
              "      <td>118.222222</td>\n",
              "      <td>235.358120</td>\n",
              "      <td>55393.444444</td>\n",
              "      <td>1</td>\n",
              "      <td>2</td>\n",
              "      <td>0</td>\n",
              "      <td>2</td>\n",
              "      <td>7</td>\n",
              "      <td>0</td>\n",
              "      <td>0</td>\n",
              "      <td>0</td>\n",
              "      <td>1.0</td>\n",
              "      <td>133.000</td>\n",
              "      <td>142.50</td>\n",
              "      <td>123.5</td>\n",
              "      <td>0</td>\n",
              "      <td>0</td>\n",
              "      <td>0</td>\n",
              "      <td>0</td>\n",
              "      <td>0</td>\n",
              "      <td>0</td>\n",
              "      <td>0</td>\n",
              "      <td>71</td>\n",
              "      <td>0</td>\n",
              "      <td>61</td>\n",
              "      <td>29200</td>\n",
              "      <td>236</td>\n",
              "      <td>1</td>\n",
              "      <td>32</td>\n",
              "      <td>779.0</td>\n",
              "      <td>0.0</td>\n",
              "      <td>779.0</td>\n",
              "      <td>779.0</td>\n",
              "      <td>7.640515e+14</td>\n",
              "      <td>1.080532e+15</td>\n",
              "      <td>1.528103e+15</td>\n",
              "      <td>5003208.0</td>\n",
              "      <td>DDoS_HTTP</td>\n",
              "    </tr>\n",
              "  </tbody>\n",
              "</table>\n",
              "</div>"
            ],
            "text/plain": [
              "   Fwd IAT Max  Fwd IAT Min  Bwd IAT Total  ...      Idle Max   Idle Min      Label\n",
              "0        865.0         54.0      5004950.0  ...  1.528103e+15  5003976.0  DDoS_HTTP\n",
              "1        687.0         36.0      5003968.0  ...  1.528103e+15  5003208.0  DDoS_HTTP\n",
              "\n",
              "[2 rows x 55 columns]"
            ]
          },
          "metadata": {
            "tags": []
          },
          "execution_count": 11
        }
      ]
    },
    {
      "cell_type": "code",
      "metadata": {
        "id": "ryJxZ4GyfZ9H"
      },
      "source": [
        "index_to_delete=df.columns.difference(['Flow IAT Mean','Flow Duration','Flow Packets/s','Flow IAT Max','Fwd Packet Length Max','Total Length of Fwd Packet','Fwd Packet Length Mean','Total Bwd packets', 'Fwd IAT Total','Flow IAT Std','Flow Bytes/s','Total Fwd Packet','Flow IAT Min','Label'])"
      ],
      "execution_count": null,
      "outputs": []
    },
    {
      "cell_type": "code",
      "metadata": {
        "colab": {
          "base_uri": "https://localhost:8080/"
        },
        "id": "tNyGT42Og_vk",
        "outputId": "dd88d467-3932-4f3f-b60d-c6b3c3115325"
      },
      "source": [
        "print(index_to_delete)\n",
        "print(index_to_delete.size)#13 features + 1 label so 14 removed from 85-14=> 71"
      ],
      "execution_count": null,
      "outputs": [
        {
          "output_type": "stream",
          "text": [
            "Index(['ACK Flag Count', 'Active Max', 'Active Mean', 'Active Min',\n",
            "       'Active Std', 'Average Packet Size', 'Bwd Bulk Rate Avg',\n",
            "       'Bwd Bytes/Bulk Avg', 'Bwd Header Length', 'Bwd IAT Max',\n",
            "       'Bwd IAT Mean', 'Bwd IAT Min', 'Bwd IAT Std', 'Bwd IAT Total',\n",
            "       'Bwd Init Win Bytes', 'Bwd PSH Flags', 'Bwd Packet Length Max',\n",
            "       'Bwd Packet Length Mean', 'Bwd Packet Length Min',\n",
            "       'Bwd Packet Length Std', 'Bwd Packet/Bulk Avg', 'Bwd Packets/s',\n",
            "       'Bwd Segment Size Avg', 'Bwd URG Flags', 'CWR Flag Count',\n",
            "       'Down/Up Ratio', 'Dst IP', 'Dst Port', 'ECE Flag Count',\n",
            "       'FIN Flag Count', 'FWD Init Win Bytes', 'Flow ID', 'Fwd Act Data Pkts',\n",
            "       'Fwd Bulk Rate Avg', 'Fwd Bytes/Bulk Avg', 'Fwd Header Length',\n",
            "       'Fwd IAT Max', 'Fwd IAT Mean', 'Fwd IAT Min', 'Fwd IAT Std',\n",
            "       'Fwd PSH Flags', 'Fwd Packet Length Min', 'Fwd Packet Length Std',\n",
            "       'Fwd Packet/Bulk Avg', 'Fwd Packets/s', 'Fwd Seg Size Min',\n",
            "       'Fwd Segment Size Avg', 'Fwd URG Flags', 'Idle Max', 'Idle Mean',\n",
            "       'Idle Min', 'Idle Std', 'PSH Flag Count', 'Packet Length Max',\n",
            "       'Packet Length Mean', 'Packet Length Min', 'Packet Length Std',\n",
            "       'Packet Length Variance', 'Protocol', 'RST Flag Count',\n",
            "       'SYN Flag Count', 'Src IP', 'Src Port', 'Subflow Bwd Bytes',\n",
            "       'Subflow Bwd Packets', 'Subflow Fwd Bytes', 'Subflow Fwd Packets',\n",
            "       'Timestamp', 'Total Length of Bwd Packet', 'URG Flag Count',\n",
            "       'Unnamed: 0'],\n",
            "      dtype='object')\n",
            "71\n"
          ],
          "name": "stdout"
        }
      ]
    },
    {
      "cell_type": "code",
      "metadata": {
        "id": "a2lUeGxlffx8"
      },
      "source": [
        "df.drop(index_to_delete,axis=1,inplace=True)"
      ],
      "execution_count": null,
      "outputs": []
    },
    {
      "cell_type": "code",
      "metadata": {
        "colab": {
          "base_uri": "https://localhost:8080/",
          "height": 213
        },
        "id": "KSCH-MpngxyJ",
        "outputId": "1397bfb9-9672-4b27-eb14-20ade3a1ac03"
      },
      "source": [
        "df.iloc[0:3,:]"
      ],
      "execution_count": null,
      "outputs": [
        {
          "output_type": "execute_result",
          "data": {
            "text/html": [
              "<div>\n",
              "<style scoped>\n",
              "    .dataframe tbody tr th:only-of-type {\n",
              "        vertical-align: middle;\n",
              "    }\n",
              "\n",
              "    .dataframe tbody tr th {\n",
              "        vertical-align: top;\n",
              "    }\n",
              "\n",
              "    .dataframe thead th {\n",
              "        text-align: right;\n",
              "    }\n",
              "</style>\n",
              "<table border=\"1\" class=\"dataframe\">\n",
              "  <thead>\n",
              "    <tr style=\"text-align: right;\">\n",
              "      <th></th>\n",
              "      <th>Flow Duration</th>\n",
              "      <th>Total Fwd Packet</th>\n",
              "      <th>Total Bwd packets</th>\n",
              "      <th>Total Length of Fwd Packet</th>\n",
              "      <th>Fwd Packet Length Max</th>\n",
              "      <th>Fwd Packet Length Mean</th>\n",
              "      <th>Flow Bytes/s</th>\n",
              "      <th>Flow Packets/s</th>\n",
              "      <th>Flow IAT Mean</th>\n",
              "      <th>Flow IAT Std</th>\n",
              "      <th>Flow IAT Max</th>\n",
              "      <th>Flow IAT Min</th>\n",
              "      <th>Fwd IAT Total</th>\n",
              "      <th>Label</th>\n",
              "    </tr>\n",
              "  </thead>\n",
              "  <tbody>\n",
              "    <tr>\n",
              "      <th>0</th>\n",
              "      <td>5005025</td>\n",
              "      <td>4</td>\n",
              "      <td>4</td>\n",
              "      <td>757.0</td>\n",
              "      <td>757.0</td>\n",
              "      <td>189.25</td>\n",
              "      <td>249.948801</td>\n",
              "      <td>1.598394</td>\n",
              "      <td>715003.571429</td>\n",
              "      <td>1.891259e+06</td>\n",
              "      <td>5003976.0</td>\n",
              "      <td>41.0</td>\n",
              "      <td>1049.0</td>\n",
              "      <td>DDoS_HTTP</td>\n",
              "    </tr>\n",
              "    <tr>\n",
              "      <th>1</th>\n",
              "      <td>5003987</td>\n",
              "      <td>4</td>\n",
              "      <td>4</td>\n",
              "      <td>570.0</td>\n",
              "      <td>570.0</td>\n",
              "      <td>142.50</td>\n",
              "      <td>212.630448</td>\n",
              "      <td>1.598725</td>\n",
              "      <td>714855.285714</td>\n",
              "      <td>1.890986e+06</td>\n",
              "      <td>5003208.0</td>\n",
              "      <td>19.0</td>\n",
              "      <td>779.0</td>\n",
              "      <td>DDoS_HTTP</td>\n",
              "    </tr>\n",
              "    <tr>\n",
              "      <th>2</th>\n",
              "      <td>5004541</td>\n",
              "      <td>4</td>\n",
              "      <td>4</td>\n",
              "      <td>423.0</td>\n",
              "      <td>423.0</td>\n",
              "      <td>105.75</td>\n",
              "      <td>183.233587</td>\n",
              "      <td>1.598548</td>\n",
              "      <td>714934.428571</td>\n",
              "      <td>1.891074e+06</td>\n",
              "      <td>5003487.0</td>\n",
              "      <td>3.0</td>\n",
              "      <td>1054.0</td>\n",
              "      <td>DDoS_HTTP</td>\n",
              "    </tr>\n",
              "  </tbody>\n",
              "</table>\n",
              "</div>"
            ],
            "text/plain": [
              "   Flow Duration  Total Fwd Packet  ...  Fwd IAT Total      Label\n",
              "0        5005025                 4  ...         1049.0  DDoS_HTTP\n",
              "1        5003987                 4  ...          779.0  DDoS_HTTP\n",
              "2        5004541                 4  ...         1054.0  DDoS_HTTP\n",
              "\n",
              "[3 rows x 14 columns]"
            ]
          },
          "metadata": {
            "tags": []
          },
          "execution_count": 15
        }
      ]
    },
    {
      "cell_type": "code",
      "metadata": {
        "id": "h1_UIEeLTAeK"
      },
      "source": [
        "df=df.dropna()"
      ],
      "execution_count": null,
      "outputs": []
    },
    {
      "cell_type": "code",
      "metadata": {
        "id": "z3N-Gga1YIpG"
      },
      "source": [
        "df.drop(df.columns[0], axis=1,inplace=True)"
      ],
      "execution_count": null,
      "outputs": []
    },
    {
      "cell_type": "code",
      "metadata": {
        "id": "z0xqIltmRTqW"
      },
      "source": [
        "X=df.iloc[:,:-1]\n",
        "y=df['Label']"
      ],
      "execution_count": null,
      "outputs": []
    },
    {
      "cell_type": "code",
      "metadata": {
        "colab": {
          "base_uri": "https://localhost:8080/",
          "height": 213
        },
        "id": "-FXzvlugMJKO",
        "outputId": "629b6f14-cf4a-45a3-ddaf-b5aa4d8939a1"
      },
      "source": [
        "X.iloc[0:3,:]"
      ],
      "execution_count": null,
      "outputs": [
        {
          "output_type": "execute_result",
          "data": {
            "text/html": [
              "<div>\n",
              "<style scoped>\n",
              "    .dataframe tbody tr th:only-of-type {\n",
              "        vertical-align: middle;\n",
              "    }\n",
              "\n",
              "    .dataframe tbody tr th {\n",
              "        vertical-align: top;\n",
              "    }\n",
              "\n",
              "    .dataframe thead th {\n",
              "        text-align: right;\n",
              "    }\n",
              "</style>\n",
              "<table border=\"1\" class=\"dataframe\">\n",
              "  <thead>\n",
              "    <tr style=\"text-align: right;\">\n",
              "      <th></th>\n",
              "      <th>Flow Duration</th>\n",
              "      <th>Total Fwd Packet</th>\n",
              "      <th>Total Bwd packets</th>\n",
              "      <th>Total Length of Fwd Packet</th>\n",
              "      <th>Fwd Packet Length Max</th>\n",
              "      <th>Fwd Packet Length Mean</th>\n",
              "      <th>Flow Bytes/s</th>\n",
              "      <th>Flow Packets/s</th>\n",
              "      <th>Flow IAT Mean</th>\n",
              "      <th>Flow IAT Std</th>\n",
              "      <th>Flow IAT Max</th>\n",
              "      <th>Flow IAT Min</th>\n",
              "      <th>Fwd IAT Total</th>\n",
              "    </tr>\n",
              "  </thead>\n",
              "  <tbody>\n",
              "    <tr>\n",
              "      <th>0</th>\n",
              "      <td>5005025</td>\n",
              "      <td>4</td>\n",
              "      <td>4</td>\n",
              "      <td>757.0</td>\n",
              "      <td>757.0</td>\n",
              "      <td>189.25</td>\n",
              "      <td>249.948801</td>\n",
              "      <td>1.598394</td>\n",
              "      <td>715003.571429</td>\n",
              "      <td>1.891259e+06</td>\n",
              "      <td>5003976.0</td>\n",
              "      <td>41.0</td>\n",
              "      <td>1049.0</td>\n",
              "    </tr>\n",
              "    <tr>\n",
              "      <th>1</th>\n",
              "      <td>5003987</td>\n",
              "      <td>4</td>\n",
              "      <td>4</td>\n",
              "      <td>570.0</td>\n",
              "      <td>570.0</td>\n",
              "      <td>142.50</td>\n",
              "      <td>212.630448</td>\n",
              "      <td>1.598725</td>\n",
              "      <td>714855.285714</td>\n",
              "      <td>1.890986e+06</td>\n",
              "      <td>5003208.0</td>\n",
              "      <td>19.0</td>\n",
              "      <td>779.0</td>\n",
              "    </tr>\n",
              "    <tr>\n",
              "      <th>2</th>\n",
              "      <td>5004541</td>\n",
              "      <td>4</td>\n",
              "      <td>4</td>\n",
              "      <td>423.0</td>\n",
              "      <td>423.0</td>\n",
              "      <td>105.75</td>\n",
              "      <td>183.233587</td>\n",
              "      <td>1.598548</td>\n",
              "      <td>714934.428571</td>\n",
              "      <td>1.891074e+06</td>\n",
              "      <td>5003487.0</td>\n",
              "      <td>3.0</td>\n",
              "      <td>1054.0</td>\n",
              "    </tr>\n",
              "  </tbody>\n",
              "</table>\n",
              "</div>"
            ],
            "text/plain": [
              "   Flow Duration  Total Fwd Packet  ...  Flow IAT Min  Fwd IAT Total\n",
              "0        5005025                 4  ...          41.0         1049.0\n",
              "1        5003987                 4  ...          19.0          779.0\n",
              "2        5004541                 4  ...           3.0         1054.0\n",
              "\n",
              "[3 rows x 13 columns]"
            ]
          },
          "metadata": {
            "tags": []
          },
          "execution_count": 18
        }
      ]
    },
    {
      "cell_type": "code",
      "metadata": {
        "id": "QAAZg0PGPsXh"
      },
      "source": [
        "from sklearn.model_selection import train_test_split\n",
        "X_train, X_test, y_train, y_test = train_test_split(X, y, random_state = 0)"
      ],
      "execution_count": null,
      "outputs": []
    },
    {
      "cell_type": "code",
      "metadata": {
        "id": "2gWxp-XgQh7r"
      },
      "source": [
        "from sklearn.naive_bayes import BernoulliNB"
      ],
      "execution_count": null,
      "outputs": []
    },
    {
      "cell_type": "code",
      "metadata": {
        "colab": {
          "base_uri": "https://localhost:8080/"
        },
        "id": "p6axJNOyXvQt",
        "outputId": "8f999b29-a8ab-4c0c-cb5b-147cd704bc6b"
      },
      "source": [
        "X_train.isna().any()"
      ],
      "execution_count": null,
      "outputs": [
        {
          "output_type": "execute_result",
          "data": {
            "text/plain": [
              "Flow Duration                 False\n",
              "Total Fwd Packet              False\n",
              "Total Bwd packets             False\n",
              "Total Length of Fwd Packet    False\n",
              "Fwd Packet Length Max         False\n",
              "Fwd Packet Length Mean        False\n",
              "Flow Bytes/s                  False\n",
              "Flow Packets/s                False\n",
              "Flow IAT Mean                 False\n",
              "Flow IAT Std                  False\n",
              "Flow IAT Max                  False\n",
              "Flow IAT Min                  False\n",
              "Fwd IAT Total                 False\n",
              "dtype: bool"
            ]
          },
          "metadata": {
            "tags": []
          },
          "execution_count": 20
        }
      ]
    },
    {
      "cell_type": "markdown",
      "metadata": {
        "id": "sKK5Mf6XCt--"
      },
      "source": [
        "# 13 Features\r\n"
      ]
    },
    {
      "cell_type": "code",
      "metadata": {
        "id": "7zIOrB0NObDC"
      },
      "source": [
        "score_label=['Accuracy','Precision','Recall','F-Measure']"
      ],
      "execution_count": null,
      "outputs": []
    },
    {
      "cell_type": "code",
      "metadata": {
        "id": "x0MFGw-NQIu8"
      },
      "source": [
        "from sklearn.metrics import precision_score,recall_score,f1_score,accuracy_score"
      ],
      "execution_count": null,
      "outputs": []
    },
    {
      "cell_type": "code",
      "metadata": {
        "id": "KZ76nScCMMkp",
        "colab": {
          "base_uri": "https://localhost:8080/"
        },
        "outputId": "cdf2582a-03fb-453d-9ddf-7c8f0da71913"
      },
      "source": [
        "gnb=BernoulliNB().fit(X_train,y_train)\n",
        "nb_predictions=gnb.predict(X_test)\n",
        "print(accuracy_score(y_test,nb_predictions))"
      ],
      "execution_count": null,
      "outputs": [
        {
          "output_type": "stream",
          "text": [
            "0.4971453877807097\n"
          ],
          "name": "stdout"
        }
      ]
    },
    {
      "cell_type": "code",
      "metadata": {
        "id": "qECsL2VtTtwF",
        "colab": {
          "base_uri": "https://localhost:8080/"
        },
        "outputId": "70f4e5ea-5b29-42f0-837c-c8c2b4864ce8"
      },
      "source": [
        "NB_score=accuracy_score(y_test,nb_predictions),precision_score(y_test,nb_predictions,average='macro'),recall_score(y_test,nb_predictions,average='macro'),f1_score(y_test,nb_predictions,average='macro')\n",
        "NB_metrics=pd.DataFrame(data=[NB_score],columns=score_label)\n",
        "print(NB_metrics)"
      ],
      "execution_count": null,
      "outputs": [
        {
          "output_type": "stream",
          "text": [
            "/usr/local/lib/python3.6/dist-packages/sklearn/metrics/_classification.py:1272: UndefinedMetricWarning: Precision is ill-defined and being set to 0.0 in labels with no predicted samples. Use `zero_division` parameter to control this behavior.\n",
            "  _warn_prf(average, modifier, msg_start, len(result))\n"
          ],
          "name": "stderr"
        },
        {
          "output_type": "stream",
          "text": [
            "   Accuracy  Precision    Recall  F-Measure\n",
            "0  0.497145   0.235714  0.320936    0.25085\n"
          ],
          "name": "stdout"
        }
      ]
    },
    {
      "cell_type": "code",
      "metadata": {
        "colab": {
          "base_uri": "https://localhost:8080/"
        },
        "id": "fIGLb6yBBYrM",
        "outputId": "9954f7cc-c296-4c32-f3b5-cdfec220f1f4"
      },
      "source": [
        "from sklearn.discriminant_analysis import QuadraticDiscriminantAnalysis as QDA\n",
        "qda=QDA().fit(X_train,y_train)\n",
        "qda_predictions=qda.predict(X_test)\n",
        "print(accuracy_score(y_test,qda_predictions))"
      ],
      "execution_count": null,
      "outputs": [
        {
          "output_type": "stream",
          "text": [
            "/usr/local/lib/python3.6/dist-packages/sklearn/discriminant_analysis.py:691: UserWarning: Variables are collinear\n",
            "  warnings.warn(\"Variables are collinear\")\n"
          ],
          "name": "stderr"
        },
        {
          "output_type": "stream",
          "text": [
            "0.4035392024800251\n"
          ],
          "name": "stdout"
        }
      ]
    },
    {
      "cell_type": "code",
      "metadata": {
        "colab": {
          "base_uri": "https://localhost:8080/"
        },
        "id": "j3GLijXQNy2s",
        "outputId": "bed56d19-da51-46ae-c630-b6dfc9febeb3"
      },
      "source": [
        "QDA_score=accuracy_score(y_test,qda_predictions),precision_score(y_test,qda_predictions,average='macro'),recall_score(y_test,qda_predictions,average='macro'),f1_score(y_test,qda_predictions,average='macro')\n",
        "QDA_metrics=pd.DataFrame(data=[QDA_score],columns=score_label)\n",
        "print(QDA_metrics)"
      ],
      "execution_count": null,
      "outputs": [
        {
          "output_type": "stream",
          "text": [
            "   Accuracy  Precision    Recall  F-Measure\n",
            "0  0.403539   0.387569  0.382352   0.306615\n"
          ],
          "name": "stdout"
        }
      ]
    },
    {
      "cell_type": "code",
      "metadata": {
        "id": "11dKME39CUHd",
        "colab": {
          "base_uri": "https://localhost:8080/"
        },
        "outputId": "656e1ab6-bb14-4db7-9caa-412b89f6d329"
      },
      "source": [
        "#ID3\n",
        "from sklearn.tree import DecisionTreeClassifier\n",
        "dt=DecisionTreeClassifier(criterion='entropy',splitter='best').fit(X_train,y_train)\n",
        "dt_predictions=dt.predict(X_test)\n",
        "print(accuracy_score(y_test,dt_predictions))"
      ],
      "execution_count": null,
      "outputs": [
        {
          "output_type": "stream",
          "text": [
            "0.9370988873101692\n"
          ],
          "name": "stdout"
        }
      ]
    },
    {
      "cell_type": "code",
      "metadata": {
        "colab": {
          "base_uri": "https://localhost:8080/"
        },
        "id": "b4oBnMrERlvY",
        "outputId": "bc74b909-12f0-4d5e-c5f3-e1ecd10efe66"
      },
      "source": [
        "ID3_score=accuracy_score(y_test,dt_predictions),precision_score(y_test,dt_predictions,average='macro'),recall_score(y_test,dt_predictions,average='macro'),f1_score(y_test,dt_predictions,average='macro')\n",
        "ID3_metrics=pd.DataFrame(data=[ID3_score],columns=score_label)\n",
        "print(ID3_metrics)"
      ],
      "execution_count": null,
      "outputs": [
        {
          "output_type": "stream",
          "text": [
            "   Accuracy  Precision    Recall  F-Measure\n",
            "0  0.937099   0.872037  0.837516   0.843862\n"
          ],
          "name": "stdout"
        }
      ]
    },
    {
      "cell_type": "code",
      "metadata": {
        "colab": {
          "base_uri": "https://localhost:8080/"
        },
        "id": "mlHTnOWyGsU-",
        "outputId": "645ece1d-7338-4136-d6b6-d02bbf0e1f06"
      },
      "source": [
        "from sklearn.neural_network import MLPClassifier\n",
        "mlp=MLPClassifier(random_state=0,max_iter=300).fit(X_train, y_train)\n",
        "mlp_predictions=mlp.predict(X_test)\n",
        "print(accuracy_score(y_test,mlp_predictions))"
      ],
      "execution_count": null,
      "outputs": [
        {
          "output_type": "stream",
          "text": [
            "0.18355876220176037\n"
          ],
          "name": "stdout"
        }
      ]
    },
    {
      "cell_type": "code",
      "metadata": {
        "colab": {
          "base_uri": "https://localhost:8080/"
        },
        "id": "IfYIbde8R7XF",
        "outputId": "d6cf0c3c-3ac4-4e49-f7ce-81aeabef817b"
      },
      "source": [
        "MLP_score=accuracy_score(y_test,mlp_predictions),precision_score(y_test,mlp_predictions,average='macro'),recall_score(y_test,mlp_predictions,average='macro'),f1_score(y_test,mlp_predictions,average='macro')\n",
        "MLP_metrics=pd.DataFrame(data=[MLP_score],columns=score_label)\n",
        "print(MLP_metrics)"
      ],
      "execution_count": null,
      "outputs": [
        {
          "output_type": "stream",
          "text": [
            "/usr/local/lib/python3.6/dist-packages/sklearn/metrics/_classification.py:1272: UndefinedMetricWarning: Precision is ill-defined and being set to 0.0 in labels with no predicted samples. Use `zero_division` parameter to control this behavior.\n",
            "  _warn_prf(average, modifier, msg_start, len(result))\n"
          ],
          "name": "stderr"
        },
        {
          "output_type": "stream",
          "text": [
            "   Accuracy  Precision    Recall  F-Measure\n",
            "0  0.183559   0.310653  0.106405   0.043335\n"
          ],
          "name": "stdout"
        }
      ]
    },
    {
      "cell_type": "code",
      "metadata": {
        "id": "Wb2jrByBI8N4",
        "colab": {
          "base_uri": "https://localhost:8080/"
        },
        "outputId": "f8bd5155-c17b-4d62-ba80-981a5070db16"
      },
      "source": [
        "from sklearn.ensemble import AdaBoostClassifier\n",
        "adbc=AdaBoostClassifier().fit(X_train,y_train)\n",
        "adbc_predictions=adbc.predict(X_test)\n",
        "print(accuracy_score(y_test,adbc_predictions))"
      ],
      "execution_count": null,
      "outputs": [
        {
          "output_type": "stream",
          "text": [
            "0.41096082519882643\n"
          ],
          "name": "stdout"
        }
      ]
    },
    {
      "cell_type": "code",
      "metadata": {
        "colab": {
          "base_uri": "https://localhost:8080/"
        },
        "id": "SbyAIGj9SWOi",
        "outputId": "e97517ad-8abb-460a-f7ee-def82dd841c7"
      },
      "source": [
        "ADBC_score=accuracy_score(y_test,adbc_predictions),precision_score(y_test,adbc_predictions,average='macro'),recall_score(y_test,adbc_predictions,average='macro'),f1_score(y_test,adbc_predictions,average='macro')\n",
        "ADBC_metrics=pd.DataFrame(data=[ADBC_score],columns=score_label)\n",
        "print(ADBC_metrics)"
      ],
      "execution_count": null,
      "outputs": [
        {
          "output_type": "stream",
          "text": [
            "   Accuracy  Precision    Recall  F-Measure\n",
            "0  0.410961   0.403608  0.291102   0.223116\n"
          ],
          "name": "stdout"
        }
      ]
    },
    {
      "cell_type": "code",
      "metadata": {
        "id": "5UPepZa8SgFn",
        "colab": {
          "base_uri": "https://localhost:8080/"
        },
        "outputId": "ffbc3be7-aa30-42d1-80dd-6176721acfc2"
      },
      "source": [
        "from sklearn.ensemble import RandomForestClassifier\n",
        "rf=RandomForestClassifier().fit(X_train,y_train)\n",
        "rf_predictions=rf.predict(X_test)\n",
        "print(accuracy_score(y_test,rf_predictions))"
      ],
      "execution_count": null,
      "outputs": [
        {
          "output_type": "stream",
          "text": [
            "0.9393980772424483\n"
          ],
          "name": "stdout"
        }
      ]
    },
    {
      "cell_type": "code",
      "metadata": {
        "colab": {
          "base_uri": "https://localhost:8080/"
        },
        "id": "_CijtHcUSnOl",
        "outputId": "53bd1af7-b7cd-4872-e195-3f07e683e0d0"
      },
      "source": [
        "RF_score=accuracy_score(y_test,rf_predictions),precision_score(y_test,rf_predictions,average='macro'),recall_score(y_test,rf_predictions,average='macro'),f1_score(y_test,rf_predictions,average='macro')\n",
        "RF_metrics=pd.DataFrame(data=[RF_score],columns=score_label)\n",
        "print(RF_metrics)"
      ],
      "execution_count": null,
      "outputs": [
        {
          "output_type": "stream",
          "text": [
            "   Accuracy  Precision    Recall  F-Measure\n",
            "0  0.939398    0.89629  0.843025   0.856233\n"
          ],
          "name": "stdout"
        }
      ]
    },
    {
      "cell_type": "code",
      "metadata": {
        "colab": {
          "base_uri": "https://localhost:8080/"
        },
        "id": "ASEizsQeS9rG",
        "outputId": "f9f4f312-b355-484b-8ff1-01aff3da85af"
      },
      "source": [
        "%%time\n",
        "from sklearn.neighbors import KNeighborsClassifier\n",
        "knn=KNeighborsClassifier(n_neighbors=10).fit(X_train,y_train)\n",
        "knn_predictions=knn.predict(X_test)\n",
        "print(accuracy_score(y_test,knn_predictions))"
      ],
      "execution_count": null,
      "outputs": [
        {
          "output_type": "stream",
          "text": [
            "0.9252781724576975\n",
            "CPU times: user 15min 40s, sys: 2.15 s, total: 15min 42s\n",
            "Wall time: 15min 40s\n"
          ],
          "name": "stdout"
        }
      ]
    },
    {
      "cell_type": "code",
      "metadata": {
        "colab": {
          "base_uri": "https://localhost:8080/"
        },
        "id": "Y9DI8YnLS6xb",
        "outputId": "529882d2-a4a7-4488-8579-dc9d69fbfa62"
      },
      "source": [
        "KNN_score=accuracy_score(y_test,knn_predictions),precision_score(y_test,knn_predictions,average='macro'),recall_score(y_test,knn_predictions,average='macro'),f1_score(y_test,knn_predictions,average='macro')\n",
        "KNN_metrics=pd.DataFrame(data=[KNN_score],columns=score_label)\n",
        "print(KNN_metrics)"
      ],
      "execution_count": null,
      "outputs": [
        {
          "output_type": "stream",
          "text": [
            "   Accuracy  Precision    Recall  F-Measure\n",
            "0  0.925278   0.860503  0.783404   0.802653\n"
          ],
          "name": "stdout"
        }
      ]
    },
    {
      "cell_type": "markdown",
      "metadata": {
        "id": "OqjNU0adDJg9"
      },
      "source": [
        "# 7 Features"
      ]
    },
    {
      "cell_type": "markdown",
      "metadata": {
        "id": "Bd22fbmoWMSL"
      },
      "source": [
        "7 Features"
      ]
    },
    {
      "cell_type": "code",
      "metadata": {
        "id": "cWldDWz6YnwC"
      },
      "source": [
        "!cp '/content/drive/MyDrive/propotion_7.csv' feature_7.csv"
      ],
      "execution_count": null,
      "outputs": []
    },
    {
      "cell_type": "code",
      "metadata": {
        "id": "J4dUYNIoWOiN"
      },
      "source": [
        "df1=pd.read_csv('feature_7.csv')\n",
        "df1 =df1[~df1.isin([np.nan, np.inf, -np.inf]).any(1)]\n",
        "df1.head()\n",
        "X1=df1.iloc[:,:-1]\n",
        "y1=df1['Label']\n",
        "X_train1, X_test1, y_train1, y_test1 = train_test_split(X1, y1, random_state = 0)"
      ],
      "execution_count": null,
      "outputs": []
    },
    {
      "cell_type": "code",
      "metadata": {
        "id": "3ajsHVRzdvdF"
      },
      "source": [
        "def print_full(x):\n",
        "    pd.set_option('display.max_rows', None)\n",
        "    pd.set_option('display.max_columns', None)\n",
        "    pd.set_option('display.width', 2000)\n",
        "    pd.set_option('display.float_format', '{:20,.2f}'.format)\n",
        "    pd.set_option('display.max_colwidth', None)\n",
        "    print(x)\n",
        "    pd.reset_option('display.max_rows')\n",
        "    pd.reset_option('display.max_columns')\n",
        "    pd.reset_option('display.width')\n",
        "    pd.reset_option('display.float_format')\n",
        "    pd.reset_option('display.max_colwidth')"
      ],
      "execution_count": null,
      "outputs": []
    },
    {
      "cell_type": "code",
      "metadata": {
        "id": "Xy9ijEIOTWww",
        "colab": {
          "base_uri": "https://localhost:8080/"
        },
        "outputId": "8d4d116f-8f82-4b0b-c97c-d048d2ce65de"
      },
      "source": [
        "rf1=RandomForestClassifier().fit(X_train1,y_train1)\n",
        "rf_predictions1=rf1.predict(X_test1)\n",
        "\n",
        "RF_score1=accuracy_score(y_test1,rf_predictions1),precision_score(y_test1,rf_predictions1,average='macro'),recall_score(y_test1,rf_predictions1,average='macro'),f1_score(y_test1,rf_predictions1,average='macro')\n",
        "RF_metrics1=pd.DataFrame(data=[RF_score1],columns=score_label)\n",
        "print(RF_metrics1)"
      ],
      "execution_count": null,
      "outputs": [
        {
          "output_type": "stream",
          "text": [
            "   Accuracy  Precision    Recall  F-Measure\n",
            "0  0.999948   0.997763  0.995508   0.996626\n"
          ],
          "name": "stdout"
        }
      ]
    },
    {
      "cell_type": "code",
      "metadata": {
        "colab": {
          "base_uri": "https://localhost:8080/"
        },
        "id": "ZmW2wu9CbmTA",
        "outputId": "45e53f6f-6411-4529-d94d-1a730d835311"
      },
      "source": [
        "precision_rf7, recall_rf7, fscore_rf7, support_rf7=score(y_test1,rf_predictions1)\n",
        "recall_table_rf7=pd.DataFrame(data=[recall_rf7],columns=['DDoS_HTTP', 'DDoS_TCP', 'DDoS_UDP', 'Data_Exfiltration','DoS_HTTP', 'DoS_TCP', 'DoS_UDP', 'Keylogging', 'OS_Scan','Service_Scan'])\n",
        "print_full(recall_table_rf7)"
      ],
      "execution_count": null,
      "outputs": [
        {
          "output_type": "stream",
          "text": [
            "             DDoS_HTTP             DDoS_TCP             DDoS_UDP    Data_Exfiltration             DoS_HTTP              DoS_TCP              DoS_UDP           Keylogging              OS_Scan         Service_Scan\n",
            "0                 1.00                 1.00                 1.00                 0.96                 1.00                 1.00                 1.00                 0.99                 1.00                 1.00\n"
          ],
          "name": "stdout"
        }
      ]
    },
    {
      "cell_type": "code",
      "metadata": {
        "colab": {
          "base_uri": "https://localhost:8080/"
        },
        "id": "vOz-ejPNd6WU",
        "outputId": "f67b368b-cd97-4887-ca4a-03d640c4d32b"
      },
      "source": [
        "gnb1=BernoulliNB().fit(X_train1,y_train1)\n",
        "nb_predictions1=gnb1.predict(X_test1)\n",
        "print(accuracy_score(y_test1,nb_predictions1))\n",
        "\n",
        "NB_score1=accuracy_score(y_test1,nb_predictions1),precision_score(y_test1,nb_predictions1,average='macro'),recall_score(y_test1,nb_predictions1,average='macro'),f1_score(y_test1,nb_predictions1,average='macro')\n",
        "NB_metrics1=pd.DataFrame(data=[NB_score1],columns=score_label)\n",
        "print(NB_metrics1)"
      ],
      "execution_count": null,
      "outputs": [
        {
          "output_type": "stream",
          "text": [
            "0.37879061871459413\n"
          ],
          "name": "stdout"
        },
        {
          "output_type": "stream",
          "text": [
            "/usr/local/lib/python3.6/dist-packages/sklearn/metrics/_classification.py:1272: UndefinedMetricWarning: Precision is ill-defined and being set to 0.0 in labels with no predicted samples. Use `zero_division` parameter to control this behavior.\n",
            "  _warn_prf(average, modifier, msg_start, len(result))\n"
          ],
          "name": "stderr"
        },
        {
          "output_type": "stream",
          "text": [
            "   Accuracy  Precision    Recall  F-Measure\n",
            "0  0.378791    0.13451  0.250402   0.166807\n"
          ],
          "name": "stdout"
        }
      ]
    },
    {
      "cell_type": "code",
      "metadata": {
        "colab": {
          "base_uri": "https://localhost:8080/"
        },
        "id": "RXn_65X_f7QH",
        "outputId": "0ae72670-52ec-4733-a0ac-c54a1158d396"
      },
      "source": [
        "precision_nb7, recall_nb7, fscore_nb7, support_nb7=score(y_test1,nb_predictions1)\n",
        "recall_table_nb7=pd.DataFrame(data=[recall_nb7],columns=['DDoS_HTTP', 'DDoS_TCP', 'DDoS_UDP', 'Data_Exfiltration','DoS_HTTP', 'DoS_TCP', 'DoS_UDP', 'Keylogging', 'OS_Scan','Service_Scan'])\n",
        "print_full(recall_table_nb7)"
      ],
      "execution_count": null,
      "outputs": [
        {
          "output_type": "stream",
          "text": [
            "             DDoS_HTTP             DDoS_TCP             DDoS_UDP    Data_Exfiltration             DoS_HTTP              DoS_TCP              DoS_UDP           Keylogging              OS_Scan         Service_Scan\n",
            "0                 0.00                 1.00                 0.00                 0.00                 0.51                 0.00                 1.00                 0.00                 0.00                 0.00\n"
          ],
          "name": "stdout"
        },
        {
          "output_type": "stream",
          "text": [
            "/usr/local/lib/python3.6/dist-packages/sklearn/metrics/_classification.py:1272: UndefinedMetricWarning: Precision and F-score are ill-defined and being set to 0.0 in labels with no predicted samples. Use `zero_division` parameter to control this behavior.\n",
            "  _warn_prf(average, modifier, msg_start, len(result))\n"
          ],
          "name": "stderr"
        }
      ]
    },
    {
      "cell_type": "markdown",
      "metadata": {
        "id": "aoDjTPifYkgA"
      },
      "source": [
        "Confusion matrix"
      ]
    },
    {
      "cell_type": "code",
      "metadata": {
        "id": "2YHD2noxZ93t"
      },
      "source": [
        "from sklearn.metrics import confusion_matrix \n",
        "cm = confusion_matrix(y_test, gnb_predictions)"
      ],
      "execution_count": null,
      "outputs": []
    },
    {
      "cell_type": "code",
      "metadata": {
        "colab": {
          "base_uri": "https://localhost:8080/"
        },
        "id": "U8kO3M42aG7m",
        "outputId": "56254d9b-3717-4152-e68f-f772fba758e1"
      },
      "source": [
        "print(cm)"
      ],
      "execution_count": null,
      "outputs": [
        {
          "output_type": "stream",
          "text": [
            "[[ 1440  4469  1696    39    28  1000     8     1    67    15]\n",
            " [   14 21667  4067     0     0  7185 13083     1   162     0]\n",
            " [   40  4949 23672     0     0   314 17383     2     0     0]\n",
            " [    2     0    36    40     0     3     0     2    18     1]\n",
            " [ 1742  6557  2851    47    70  1848     7     2   242   186]\n",
            " [   83  4813  2868     1     0 19982   390     0   126     0]\n",
            " [    0  6580  3745     0     0   100 39277     1     0     0]\n",
            " [    1     2   106    22     0     4     0     2   404     2]\n",
            " [   19   341  7110    84     3    11     0     6 33327   287]\n",
            " [   97    17 22924    84    10     1     0     5 12092  1082]]\n"
          ],
          "name": "stdout"
        }
      ]
    },
    {
      "cell_type": "code",
      "metadata": {
        "colab": {
          "base_uri": "https://localhost:8080/"
        },
        "id": "xJN-Kw-kafsx",
        "outputId": "ca535d4d-35a8-4a7b-8df8-c4c42112f85e"
      },
      "source": [
        "from sklearn.metrics import precision_recall_fscore_support as score\n",
        "precision, recall, fscore, support = score( gnb_predictions,y_test)\n",
        "\n",
        "print('precision: {}'.format(precision))\n",
        "#print('recall: {}'.format(recall))\n",
        "print('fscore: {}'.format(fscore))\n",
        "#print('support: {}'.format(support))"
      ],
      "execution_count": null,
      "outputs": [
        {
          "output_type": "stream",
          "text": [
            "precision: [0.16432729 0.46919595 0.5106126  0.39215686 0.00516529 0.70700209\n",
            " 0.79023399 0.00368324 0.80914344 0.02979731]\n",
            "fscore: [0.23604623 0.45340783 0.41013557 0.19093079 0.01024665 0.68069016\n",
            " 0.65543049 0.00707965 0.76066464 0.05712023]\n"
          ],
          "name": "stdout"
        }
      ]
    },
    {
      "cell_type": "markdown",
      "metadata": {
        "id": "0TJJM-I5x-lU"
      },
      "source": [
        ""
      ]
    },
    {
      "cell_type": "code",
      "metadata": {
        "id": "566RjjW3wJck"
      },
      "source": [
        "ddos_http=df[df['Label']=='DDoS_HTTP']\r\n",
        "ddos_tcp=df[df['Label']=='DDoS_TCP']\r\n",
        "ddos_udp=df[df['Label']=='DDoS_UDP']\r\n",
        "data_exfiltration=df[df['Label']=='Data_Exfiltration']\r\n",
        "dos_http=df[df['Label']=='DoS_HTTP']\r\n",
        "dos_tcp=df[df['Label']=='DoS_TCP']\r\n",
        "dos_udp=df[df['Label']=='DoS_UDP']\r\n",
        "keylogging=df[df['Label']=='Keylogging']\r\n",
        "os_scan=df[df['Label']=='OS_Scan']\r\n",
        "service_scan=df[df['Label']=='Service_Scan']"
      ],
      "execution_count": null,
      "outputs": []
    },
    {
      "cell_type": "code",
      "metadata": {
        "colab": {
          "base_uri": "https://localhost:8080/"
        },
        "id": "TxCSRBPM1DDi",
        "outputId": "4813cfab-abba-4fea-b395-0bbd9d2c9118"
      },
      "source": [
        "import gc\r\n",
        "gc.collect()"
      ],
      "execution_count": null,
      "outputs": [
        {
          "output_type": "execute_result",
          "data": {
            "text/plain": [
              "778"
            ]
          },
          "metadata": {
            "tags": []
          },
          "execution_count": 12
        }
      ]
    },
    {
      "cell_type": "code",
      "metadata": {
        "id": "P3KBDgWE1gRS"
      },
      "source": [
        "from sklearn.model_selection import train_test_split\r\n",
        "from sklearn.naive_bayes import BernoulliNB\r\n",
        "from sklearn.discriminant_analysis import QuadraticDiscriminantAnalysis as QDA\r\n",
        "from sklearn.ensemble import RandomForestClassifier\r\n",
        "from sklearn.metrics import precision_score,recall_score,f1_score,accuracy_score\r\n",
        "from sklearn.metrics import classification_report\r\n",
        "score_label=['Accuracy','Precision','Recall','F-Measure']"
      ],
      "execution_count": null,
      "outputs": []
    },
    {
      "cell_type": "code",
      "metadata": {
        "id": "jkCNMIx_yHF3"
      },
      "source": [
        "def NB_ml_model(df):\r\n",
        "  X=df.iloc[:,:-1]\r\n",
        "  y=df['Label']\r\n",
        "  X_train, X_test, y_train, y_test = train_test_split(X, y, test_size=0.2,random_state = 13)\r\n",
        "  gnb=BernoulliNB().fit(X_train,y_train)\r\n",
        "  nb_predictions=gnb.predict(X_test)\r\n",
        "  print(set(y_test))\r\n",
        "  print(classification_report(y_test,nb_predictions,target_names=Labels))\r\n",
        "  gc.collect()"
      ],
      "execution_count": null,
      "outputs": []
    },
    {
      "cell_type": "code",
      "metadata": {
        "id": "XBZM79ZrC16Z"
      },
      "source": [
        "def QDA_ml_model(df):\r\n",
        "  X=df.iloc[:,:-1]\r\n",
        "  y=df['Label']\r\n",
        "  X_train, X_test, y_train, y_test = train_test_split(X, y, test_size=0.2,random_state = 13)\r\n",
        "  qda=QDA().fit(X_train,y_train)\r\n",
        "  qda_predictions=qda.predict(X_test)\r\n",
        "  print(classification_report(y_test,qda_predictions,target_names=Labels))\r\n",
        "  gc.collect()"
      ],
      "execution_count": null,
      "outputs": []
    },
    {
      "cell_type": "code",
      "metadata": {
        "colab": {
          "base_uri": "https://localhost:8080/"
        },
        "id": "AZ7a49Pe2Cv6",
        "outputId": "a3754ea7-745c-4ee1-8e9d-1be2e008fc5d"
      },
      "source": [
        "Labels=['DDoS_HTTP', 'DDoS_TCP', 'DDoS_UDP', 'Data_Exfiltration','DoS_HTTP', 'DoS_TCP', 'DoS_UDP', 'Keylogging', 'OS_Scan','Service_Scan']\r\n",
        "NB_ml_model(df)"
      ],
      "execution_count": null,
      "outputs": [
        {
          "output_type": "stream",
          "text": [
            "{'Data_Exfiltration', 'Service_Scan', 'OS_Scan', 'DDoS_TCP', 'Keylogging', 'DDoS_UDP', 'DoS_UDP', 'DoS_HTTP', 'DoS_TCP', 'DDoS_HTTP'}\n"
          ],
          "name": "stdout"
        },
        {
          "output_type": "stream",
          "text": [
            "/usr/local/lib/python3.6/dist-packages/sklearn/metrics/_classification.py:1272: UndefinedMetricWarning: Precision and F-score are ill-defined and being set to 0.0 in labels with no predicted samples. Use `zero_division` parameter to control this behavior.\n",
            "  _warn_prf(average, modifier, msg_start, len(result))\n"
          ],
          "name": "stderr"
        },
        {
          "output_type": "stream",
          "text": [
            "                   precision    recall  f1-score   support\n",
            "\n",
            "        DDoS_HTTP       0.00      0.00      0.00     17555\n",
            "         DDoS_TCP       0.70      0.71      0.70     92813\n",
            "         DDoS_UDP       0.00      0.00      0.00     92702\n",
            "Data_Exfiltration       0.09      0.07      0.08       196\n",
            "         DoS_HTTP       0.00      0.00      0.00     27071\n",
            "          DoS_TCP       0.32      0.52      0.40     56455\n",
            "          DoS_UDP       0.46      1.00      0.63     98827\n",
            "       Keylogging       0.00      0.00      0.00      1045\n",
            "          OS_Scan       0.54      0.90      0.67     82468\n",
            "     Service_Scan       0.24      0.01      0.02     72797\n",
            "\n",
            "         accuracy                           0.50    541929\n",
            "        macro avg       0.23      0.32      0.25    541929\n",
            "     weighted avg       0.35      0.50      0.38    541929\n",
            "\n"
          ],
          "name": "stdout"
        }
      ]
    },
    {
      "cell_type": "code",
      "metadata": {
        "id": "rukvMVt59aHj",
        "colab": {
          "base_uri": "https://localhost:8080/"
        },
        "outputId": "16fda1fe-cf8d-4373-c56f-f5838f4cfb2a"
      },
      "source": [
        "QDA_ml_model(df)"
      ],
      "execution_count": null,
      "outputs": [
        {
          "output_type": "stream",
          "text": [
            "/usr/local/lib/python3.6/dist-packages/sklearn/discriminant_analysis.py:691: UserWarning: Variables are collinear\n",
            "  warnings.warn(\"Variables are collinear\")\n"
          ],
          "name": "stderr"
        },
        {
          "output_type": "stream",
          "text": [
            "                   precision    recall  f1-score   support\n",
            "\n",
            "        DDoS_HTTP       0.46      0.19      0.27      7022\n",
            "         DDoS_TCP       0.73      0.97      0.83     37093\n",
            "         DDoS_UDP       0.51      0.06      0.10     37226\n",
            "Data_Exfiltration       0.05      0.28      0.09        78\n",
            "         DoS_HTTP       0.61      0.49      0.54     10774\n",
            "          DoS_TCP       0.91      0.39      0.54     22401\n",
            "          DoS_UDP       0.52      0.99      0.68     39572\n",
            "       Keylogging       0.05      0.06      0.06       400\n",
            "          OS_Scan       0.53      0.97      0.69     32736\n",
            "     Service_Scan       0.40      0.08      0.13     29470\n",
            "\n",
            "         accuracy                           0.58    216772\n",
            "        macro avg       0.48      0.45      0.39    216772\n",
            "     weighted avg       0.58      0.58      0.50    216772\n",
            "\n"
          ],
          "name": "stdout"
        }
      ]
    },
    {
      "cell_type": "code",
      "metadata": {
        "id": "2moVdKQ_FMJx"
      },
      "source": [
        "def RF_ml_model(df):\r\n",
        "  X=df.iloc[:,:-1]\r\n",
        "  y=df['Label']\r\n",
        "  X_train, X_test, y_train, y_test = train_test_split(X, y, test_size=0.2,random_state = 13)\r\n",
        "  rf=RandomForestClassifier().fit(X_train,y_train)\r\n",
        "  rf_predictions=rf.predict(X_test)\r\n",
        "  print(classification_report(y_test,rf_predictions,target_names=Labels))\r\n",
        "  gc.collect()"
      ],
      "execution_count": null,
      "outputs": []
    },
    {
      "cell_type": "code",
      "metadata": {
        "colab": {
          "base_uri": "https://localhost:8080/"
        },
        "id": "p5EUc4-UFgkP",
        "outputId": "cd800910-aadf-4836-b782-6461f90a503c"
      },
      "source": [
        "%%time\r\n",
        "RF_ml_model(df)"
      ],
      "execution_count": null,
      "outputs": [
        {
          "output_type": "stream",
          "text": [
            "                   precision    recall  f1-score   support\n",
            "\n",
            "        DDoS_HTTP       0.89      0.84      0.87      7022\n",
            "         DDoS_TCP       0.99      0.99      0.99     37093\n",
            "         DDoS_UDP       1.00      1.00      1.00     37226\n",
            "Data_Exfiltration       0.65      0.63      0.64        78\n",
            "         DoS_HTTP       0.90      0.93      0.92     10774\n",
            "          DoS_TCP       0.99      0.99      0.99     22401\n",
            "          DoS_UDP       1.00      1.00      1.00     39572\n",
            "       Keylogging       0.75      0.30      0.43       400\n",
            "          OS_Scan       0.77      0.96      0.86     32736\n",
            "     Service_Scan       0.94      0.69      0.80     29470\n",
            "\n",
            "         accuracy                           0.94    216772\n",
            "        macro avg       0.89      0.83      0.85    216772\n",
            "     weighted avg       0.95      0.94      0.94    216772\n",
            "\n"
          ],
          "name": "stdout"
        }
      ]
    },
    {
      "cell_type": "markdown",
      "metadata": {
        "id": "SitGhwYFYl_E"
      },
      "source": [
        "Data Visualization"
      ]
    },
    {
      "cell_type": "code",
      "metadata": {
        "id": "wuF_IdPEYqT4"
      },
      "source": [
        "!cp /content/drive/MyDrive/sampled.csv ."
      ],
      "execution_count": null,
      "outputs": []
    },
    {
      "cell_type": "code",
      "metadata": {
        "colab": {
          "base_uri": "https://localhost:8080/",
          "height": 799
        },
        "id": "w57ZKOKiY5mR",
        "outputId": "29c14040-d9d8-454f-efcd-227d348ba7cc"
      },
      "source": [
        "import pandas as pd\r\n",
        "df=pd.read_csv('sampled.csv')\r\n",
        "df.head(10)"
      ],
      "execution_count": null,
      "outputs": [
        {
          "output_type": "execute_result",
          "data": {
            "text/html": [
              "<div>\n",
              "<style scoped>\n",
              "    .dataframe tbody tr th:only-of-type {\n",
              "        vertical-align: middle;\n",
              "    }\n",
              "\n",
              "    .dataframe tbody tr th {\n",
              "        vertical-align: top;\n",
              "    }\n",
              "\n",
              "    .dataframe thead th {\n",
              "        text-align: right;\n",
              "    }\n",
              "</style>\n",
              "<table border=\"1\" class=\"dataframe\">\n",
              "  <thead>\n",
              "    <tr style=\"text-align: right;\">\n",
              "      <th></th>\n",
              "      <th>Unnamed: 0</th>\n",
              "      <th>Flow ID</th>\n",
              "      <th>Src IP</th>\n",
              "      <th>Src Port</th>\n",
              "      <th>Dst IP</th>\n",
              "      <th>Dst Port</th>\n",
              "      <th>Protocol</th>\n",
              "      <th>Timestamp</th>\n",
              "      <th>Flow Duration</th>\n",
              "      <th>Total Fwd Packet</th>\n",
              "      <th>Total Bwd packets</th>\n",
              "      <th>Total Length of Fwd Packet</th>\n",
              "      <th>Total Length of Bwd Packet</th>\n",
              "      <th>Fwd Packet Length Max</th>\n",
              "      <th>Fwd Packet Length Min</th>\n",
              "      <th>Fwd Packet Length Mean</th>\n",
              "      <th>Fwd Packet Length Std</th>\n",
              "      <th>Bwd Packet Length Max</th>\n",
              "      <th>Bwd Packet Length Min</th>\n",
              "      <th>Bwd Packet Length Mean</th>\n",
              "      <th>Bwd Packet Length Std</th>\n",
              "      <th>Flow Bytes/s</th>\n",
              "      <th>Flow Packets/s</th>\n",
              "      <th>Flow IAT Mean</th>\n",
              "      <th>Flow IAT Std</th>\n",
              "      <th>Flow IAT Max</th>\n",
              "      <th>Flow IAT Min</th>\n",
              "      <th>Fwd IAT Total</th>\n",
              "      <th>Fwd IAT Mean</th>\n",
              "      <th>Fwd IAT Std</th>\n",
              "      <th>Fwd IAT Max</th>\n",
              "      <th>Fwd IAT Min</th>\n",
              "      <th>Bwd IAT Total</th>\n",
              "      <th>Bwd IAT Mean</th>\n",
              "      <th>Bwd IAT Std</th>\n",
              "      <th>Bwd IAT Max</th>\n",
              "      <th>Bwd IAT Min</th>\n",
              "      <th>Fwd PSH Flags</th>\n",
              "      <th>Bwd PSH Flags</th>\n",
              "      <th>Fwd URG Flags</th>\n",
              "      <th>...</th>\n",
              "      <th>Packet Length Min</th>\n",
              "      <th>Packet Length Max</th>\n",
              "      <th>Packet Length Mean</th>\n",
              "      <th>Packet Length Std</th>\n",
              "      <th>Packet Length Variance</th>\n",
              "      <th>FIN Flag Count</th>\n",
              "      <th>SYN Flag Count</th>\n",
              "      <th>RST Flag Count</th>\n",
              "      <th>PSH Flag Count</th>\n",
              "      <th>ACK Flag Count</th>\n",
              "      <th>URG Flag Count</th>\n",
              "      <th>CWR Flag Count</th>\n",
              "      <th>ECE Flag Count</th>\n",
              "      <th>Down/Up Ratio</th>\n",
              "      <th>Average Packet Size</th>\n",
              "      <th>Fwd Segment Size Avg</th>\n",
              "      <th>Bwd Segment Size Avg</th>\n",
              "      <th>Fwd Bytes/Bulk Avg</th>\n",
              "      <th>Fwd Packet/Bulk Avg</th>\n",
              "      <th>Fwd Bulk Rate Avg</th>\n",
              "      <th>Bwd Bytes/Bulk Avg</th>\n",
              "      <th>Bwd Packet/Bulk Avg</th>\n",
              "      <th>Bwd Bulk Rate Avg</th>\n",
              "      <th>Subflow Fwd Packets</th>\n",
              "      <th>Subflow Fwd Bytes</th>\n",
              "      <th>Subflow Bwd Packets</th>\n",
              "      <th>Subflow Bwd Bytes</th>\n",
              "      <th>FWD Init Win Bytes</th>\n",
              "      <th>Bwd Init Win Bytes</th>\n",
              "      <th>Fwd Act Data Pkts</th>\n",
              "      <th>Fwd Seg Size Min</th>\n",
              "      <th>Active Mean</th>\n",
              "      <th>Active Std</th>\n",
              "      <th>Active Max</th>\n",
              "      <th>Active Min</th>\n",
              "      <th>Idle Mean</th>\n",
              "      <th>Idle Std</th>\n",
              "      <th>Idle Max</th>\n",
              "      <th>Idle Min</th>\n",
              "      <th>Label</th>\n",
              "    </tr>\n",
              "  </thead>\n",
              "  <tbody>\n",
              "    <tr>\n",
              "      <th>0</th>\n",
              "      <td>0</td>\n",
              "      <td>192.168.100.149-192.168.100.3-41664-80-6</td>\n",
              "      <td>192.168.100.149</td>\n",
              "      <td>41664</td>\n",
              "      <td>192.168.100.3</td>\n",
              "      <td>80</td>\n",
              "      <td>6</td>\n",
              "      <td>04/06/2018 09:02:01 AM</td>\n",
              "      <td>10248092</td>\n",
              "      <td>4</td>\n",
              "      <td>4</td>\n",
              "      <td>354.0</td>\n",
              "      <td>494.0</td>\n",
              "      <td>354.0</td>\n",
              "      <td>0.0</td>\n",
              "      <td>88.500000</td>\n",
              "      <td>177.000000</td>\n",
              "      <td>494.0</td>\n",
              "      <td>0.0</td>\n",
              "      <td>123.5</td>\n",
              "      <td>247.0</td>\n",
              "      <td>82.747110</td>\n",
              "      <td>0.780633</td>\n",
              "      <td>1.464013e+06</td>\n",
              "      <td>2.501235e+06</td>\n",
              "      <td>5246612.0</td>\n",
              "      <td>17.0</td>\n",
              "      <td>5246747.0</td>\n",
              "      <td>1.748916e+06</td>\n",
              "      <td>3.029156e+06</td>\n",
              "      <td>5246684.0</td>\n",
              "      <td>17.0</td>\n",
              "      <td>10248068.0</td>\n",
              "      <td>3.416023e+06</td>\n",
              "      <td>2.960848e+06</td>\n",
              "      <td>5246612.0</td>\n",
              "      <td>63.0</td>\n",
              "      <td>0</td>\n",
              "      <td>0</td>\n",
              "      <td>0</td>\n",
              "      <td>...</td>\n",
              "      <td>0.0</td>\n",
              "      <td>494.0</td>\n",
              "      <td>94.222222</td>\n",
              "      <td>190.214207</td>\n",
              "      <td>36181.444444</td>\n",
              "      <td>1</td>\n",
              "      <td>2</td>\n",
              "      <td>0</td>\n",
              "      <td>2</td>\n",
              "      <td>7</td>\n",
              "      <td>0</td>\n",
              "      <td>0</td>\n",
              "      <td>0</td>\n",
              "      <td>1.0</td>\n",
              "      <td>106.000000</td>\n",
              "      <td>88.500000</td>\n",
              "      <td>123.5</td>\n",
              "      <td>0</td>\n",
              "      <td>0</td>\n",
              "      <td>0</td>\n",
              "      <td>0</td>\n",
              "      <td>0</td>\n",
              "      <td>0</td>\n",
              "      <td>0</td>\n",
              "      <td>44</td>\n",
              "      <td>0</td>\n",
              "      <td>61</td>\n",
              "      <td>29200</td>\n",
              "      <td>235</td>\n",
              "      <td>1</td>\n",
              "      <td>32</td>\n",
              "      <td>67.5</td>\n",
              "      <td>27.577164</td>\n",
              "      <td>87.0</td>\n",
              "      <td>48.0</td>\n",
              "      <td>5.093676e+14</td>\n",
              "      <td>8.822506e+14</td>\n",
              "      <td>1.528103e+15</td>\n",
              "      <td>5001345.0</td>\n",
              "      <td>DDoS_HTTP</td>\n",
              "    </tr>\n",
              "    <tr>\n",
              "      <th>1</th>\n",
              "      <td>1</td>\n",
              "      <td>192.168.100.147-192.168.100.3-57106-80-6</td>\n",
              "      <td>192.168.100.147</td>\n",
              "      <td>57106</td>\n",
              "      <td>192.168.100.3</td>\n",
              "      <td>80</td>\n",
              "      <td>6</td>\n",
              "      <td>04/06/2018 09:02:05 AM</td>\n",
              "      <td>6927873</td>\n",
              "      <td>4</td>\n",
              "      <td>4</td>\n",
              "      <td>485.0</td>\n",
              "      <td>494.0</td>\n",
              "      <td>485.0</td>\n",
              "      <td>0.0</td>\n",
              "      <td>121.250000</td>\n",
              "      <td>242.500000</td>\n",
              "      <td>494.0</td>\n",
              "      <td>0.0</td>\n",
              "      <td>123.5</td>\n",
              "      <td>247.0</td>\n",
              "      <td>141.313214</td>\n",
              "      <td>1.154756</td>\n",
              "      <td>9.896961e+05</td>\n",
              "      <td>1.909899e+06</td>\n",
              "      <td>5004299.0</td>\n",
              "      <td>2.0</td>\n",
              "      <td>1923574.0</td>\n",
              "      <td>6.411913e+05</td>\n",
              "      <td>1.110529e+06</td>\n",
              "      <td>1923520.0</td>\n",
              "      <td>23.0</td>\n",
              "      <td>6927871.0</td>\n",
              "      <td>2.309290e+06</td>\n",
              "      <td>2.524339e+06</td>\n",
              "      <td>5004326.0</td>\n",
              "      <td>68.0</td>\n",
              "      <td>0</td>\n",
              "      <td>0</td>\n",
              "      <td>0</td>\n",
              "      <td>...</td>\n",
              "      <td>0.0</td>\n",
              "      <td>494.0</td>\n",
              "      <td>108.777778</td>\n",
              "      <td>215.860938</td>\n",
              "      <td>46595.944444</td>\n",
              "      <td>1</td>\n",
              "      <td>2</td>\n",
              "      <td>0</td>\n",
              "      <td>2</td>\n",
              "      <td>7</td>\n",
              "      <td>0</td>\n",
              "      <td>0</td>\n",
              "      <td>0</td>\n",
              "      <td>1.0</td>\n",
              "      <td>122.375000</td>\n",
              "      <td>121.250000</td>\n",
              "      <td>123.5</td>\n",
              "      <td>0</td>\n",
              "      <td>0</td>\n",
              "      <td>0</td>\n",
              "      <td>0</td>\n",
              "      <td>0</td>\n",
              "      <td>0</td>\n",
              "      <td>0</td>\n",
              "      <td>60</td>\n",
              "      <td>0</td>\n",
              "      <td>61</td>\n",
              "      <td>29200</td>\n",
              "      <td>235</td>\n",
              "      <td>1</td>\n",
              "      <td>32</td>\n",
              "      <td>1923574.0</td>\n",
              "      <td>0.000000</td>\n",
              "      <td>1923574.0</td>\n",
              "      <td>1923574.0</td>\n",
              "      <td>7.640515e+14</td>\n",
              "      <td>1.080532e+15</td>\n",
              "      <td>1.528103e+15</td>\n",
              "      <td>5004299.0</td>\n",
              "      <td>DDoS_HTTP</td>\n",
              "    </tr>\n",
              "    <tr>\n",
              "      <th>2</th>\n",
              "      <td>2</td>\n",
              "      <td>192.168.100.147-192.168.100.3-57110-80-6</td>\n",
              "      <td>192.168.100.147</td>\n",
              "      <td>57110</td>\n",
              "      <td>192.168.100.3</td>\n",
              "      <td>80</td>\n",
              "      <td>6</td>\n",
              "      <td>04/06/2018 09:02:05 AM</td>\n",
              "      <td>6927129</td>\n",
              "      <td>7</td>\n",
              "      <td>4</td>\n",
              "      <td>1800.0</td>\n",
              "      <td>494.0</td>\n",
              "      <td>450.0</td>\n",
              "      <td>0.0</td>\n",
              "      <td>257.142857</td>\n",
              "      <td>240.535118</td>\n",
              "      <td>494.0</td>\n",
              "      <td>0.0</td>\n",
              "      <td>123.5</td>\n",
              "      <td>247.0</td>\n",
              "      <td>331.161727</td>\n",
              "      <td>1.587959</td>\n",
              "      <td>6.927129e+05</td>\n",
              "      <td>1.552459e+06</td>\n",
              "      <td>5003051.0</td>\n",
              "      <td>16.0</td>\n",
              "      <td>1924078.0</td>\n",
              "      <td>3.206797e+05</td>\n",
              "      <td>4.104896e+05</td>\n",
              "      <td>1097137.0</td>\n",
              "      <td>31.0</td>\n",
              "      <td>6927113.0</td>\n",
              "      <td>2.309038e+06</td>\n",
              "      <td>2.337005e+06</td>\n",
              "      <td>5003075.0</td>\n",
              "      <td>827063.0</td>\n",
              "      <td>0</td>\n",
              "      <td>0</td>\n",
              "      <td>0</td>\n",
              "      <td>...</td>\n",
              "      <td>0.0</td>\n",
              "      <td>494.0</td>\n",
              "      <td>191.166667</td>\n",
              "      <td>236.547068</td>\n",
              "      <td>55954.515152</td>\n",
              "      <td>1</td>\n",
              "      <td>2</td>\n",
              "      <td>0</td>\n",
              "      <td>5</td>\n",
              "      <td>10</td>\n",
              "      <td>0</td>\n",
              "      <td>0</td>\n",
              "      <td>0</td>\n",
              "      <td>0.0</td>\n",
              "      <td>208.545455</td>\n",
              "      <td>257.142857</td>\n",
              "      <td>123.5</td>\n",
              "      <td>0</td>\n",
              "      <td>0</td>\n",
              "      <td>0</td>\n",
              "      <td>1800</td>\n",
              "      <td>4</td>\n",
              "      <td>2176</td>\n",
              "      <td>0</td>\n",
              "      <td>163</td>\n",
              "      <td>0</td>\n",
              "      <td>44</td>\n",
              "      <td>29200</td>\n",
              "      <td>235</td>\n",
              "      <td>4</td>\n",
              "      <td>32</td>\n",
              "      <td>1924078.0</td>\n",
              "      <td>0.000000</td>\n",
              "      <td>1924078.0</td>\n",
              "      <td>1924078.0</td>\n",
              "      <td>7.640515e+14</td>\n",
              "      <td>1.080532e+15</td>\n",
              "      <td>1.528103e+15</td>\n",
              "      <td>5003051.0</td>\n",
              "      <td>DDoS_HTTP</td>\n",
              "    </tr>\n",
              "    <tr>\n",
              "      <th>3</th>\n",
              "      <td>3</td>\n",
              "      <td>192.168.100.150-192.168.100.3-54328-80-6</td>\n",
              "      <td>192.168.100.150</td>\n",
              "      <td>54328</td>\n",
              "      <td>192.168.100.3</td>\n",
              "      <td>80</td>\n",
              "      <td>6</td>\n",
              "      <td>04/06/2018 09:02:07 AM</td>\n",
              "      <td>11990817</td>\n",
              "      <td>4</td>\n",
              "      <td>4</td>\n",
              "      <td>510.0</td>\n",
              "      <td>494.0</td>\n",
              "      <td>510.0</td>\n",
              "      <td>0.0</td>\n",
              "      <td>127.500000</td>\n",
              "      <td>255.000000</td>\n",
              "      <td>494.0</td>\n",
              "      <td>0.0</td>\n",
              "      <td>123.5</td>\n",
              "      <td>247.0</td>\n",
              "      <td>83.730742</td>\n",
              "      <td>0.667177</td>\n",
              "      <td>1.712974e+06</td>\n",
              "      <td>2.981113e+06</td>\n",
              "      <td>6988835.0</td>\n",
              "      <td>27.0</td>\n",
              "      <td>6988981.0</td>\n",
              "      <td>2.329660e+06</td>\n",
              "      <td>4.035015e+06</td>\n",
              "      <td>6988894.0</td>\n",
              "      <td>31.0</td>\n",
              "      <td>11990788.0</td>\n",
              "      <td>3.996929e+06</td>\n",
              "      <td>3.601122e+06</td>\n",
              "      <td>6988835.0</td>\n",
              "      <td>86.0</td>\n",
              "      <td>0</td>\n",
              "      <td>0</td>\n",
              "      <td>0</td>\n",
              "      <td>...</td>\n",
              "      <td>0.0</td>\n",
              "      <td>510.0</td>\n",
              "      <td>111.555556</td>\n",
              "      <td>221.397330</td>\n",
              "      <td>49016.777778</td>\n",
              "      <td>1</td>\n",
              "      <td>2</td>\n",
              "      <td>0</td>\n",
              "      <td>2</td>\n",
              "      <td>7</td>\n",
              "      <td>0</td>\n",
              "      <td>0</td>\n",
              "      <td>0</td>\n",
              "      <td>1.0</td>\n",
              "      <td>125.500000</td>\n",
              "      <td>127.500000</td>\n",
              "      <td>123.5</td>\n",
              "      <td>0</td>\n",
              "      <td>0</td>\n",
              "      <td>0</td>\n",
              "      <td>0</td>\n",
              "      <td>0</td>\n",
              "      <td>0</td>\n",
              "      <td>0</td>\n",
              "      <td>63</td>\n",
              "      <td>0</td>\n",
              "      <td>61</td>\n",
              "      <td>29200</td>\n",
              "      <td>235</td>\n",
              "      <td>1</td>\n",
              "      <td>32</td>\n",
              "      <td>73.0</td>\n",
              "      <td>59.396970</td>\n",
              "      <td>115.0</td>\n",
              "      <td>31.0</td>\n",
              "      <td>5.093676e+14</td>\n",
              "      <td>8.822506e+14</td>\n",
              "      <td>1.528103e+15</td>\n",
              "      <td>5001836.0</td>\n",
              "      <td>DDoS_HTTP</td>\n",
              "    </tr>\n",
              "    <tr>\n",
              "      <th>4</th>\n",
              "      <td>4</td>\n",
              "      <td>192.168.100.150-192.168.100.3-54368-80-6</td>\n",
              "      <td>192.168.100.150</td>\n",
              "      <td>54368</td>\n",
              "      <td>192.168.100.3</td>\n",
              "      <td>80</td>\n",
              "      <td>6</td>\n",
              "      <td>04/06/2018 09:02:07 AM</td>\n",
              "      <td>11993137</td>\n",
              "      <td>4</td>\n",
              "      <td>4</td>\n",
              "      <td>488.0</td>\n",
              "      <td>494.0</td>\n",
              "      <td>488.0</td>\n",
              "      <td>0.0</td>\n",
              "      <td>122.000000</td>\n",
              "      <td>244.000000</td>\n",
              "      <td>494.0</td>\n",
              "      <td>0.0</td>\n",
              "      <td>123.5</td>\n",
              "      <td>247.0</td>\n",
              "      <td>81.880162</td>\n",
              "      <td>0.667048</td>\n",
              "      <td>1.713305e+06</td>\n",
              "      <td>2.981818e+06</td>\n",
              "      <td>6991347.0</td>\n",
              "      <td>26.0</td>\n",
              "      <td>6991496.0</td>\n",
              "      <td>2.330499e+06</td>\n",
              "      <td>4.036463e+06</td>\n",
              "      <td>6991405.0</td>\n",
              "      <td>32.0</td>\n",
              "      <td>11993106.0</td>\n",
              "      <td>3.997702e+06</td>\n",
              "      <td>3.602134e+06</td>\n",
              "      <td>6991347.0</td>\n",
              "      <td>92.0</td>\n",
              "      <td>0</td>\n",
              "      <td>0</td>\n",
              "      <td>0</td>\n",
              "      <td>...</td>\n",
              "      <td>0.0</td>\n",
              "      <td>494.0</td>\n",
              "      <td>109.111111</td>\n",
              "      <td>216.515845</td>\n",
              "      <td>46879.111111</td>\n",
              "      <td>1</td>\n",
              "      <td>2</td>\n",
              "      <td>0</td>\n",
              "      <td>2</td>\n",
              "      <td>7</td>\n",
              "      <td>0</td>\n",
              "      <td>0</td>\n",
              "      <td>0</td>\n",
              "      <td>1.0</td>\n",
              "      <td>122.750000</td>\n",
              "      <td>122.000000</td>\n",
              "      <td>123.5</td>\n",
              "      <td>0</td>\n",
              "      <td>0</td>\n",
              "      <td>0</td>\n",
              "      <td>0</td>\n",
              "      <td>0</td>\n",
              "      <td>0</td>\n",
              "      <td>0</td>\n",
              "      <td>61</td>\n",
              "      <td>0</td>\n",
              "      <td>61</td>\n",
              "      <td>29200</td>\n",
              "      <td>235</td>\n",
              "      <td>1</td>\n",
              "      <td>32</td>\n",
              "      <td>74.5</td>\n",
              "      <td>68.589358</td>\n",
              "      <td>123.0</td>\n",
              "      <td>26.0</td>\n",
              "      <td>5.093676e+14</td>\n",
              "      <td>8.822506e+14</td>\n",
              "      <td>1.528103e+15</td>\n",
              "      <td>5001641.0</td>\n",
              "      <td>DDoS_HTTP</td>\n",
              "    </tr>\n",
              "    <tr>\n",
              "      <th>5</th>\n",
              "      <td>5</td>\n",
              "      <td>192.168.100.150-192.168.100.3-54428-80-6</td>\n",
              "      <td>192.168.100.150</td>\n",
              "      <td>54428</td>\n",
              "      <td>192.168.100.3</td>\n",
              "      <td>80</td>\n",
              "      <td>6</td>\n",
              "      <td>04/06/2018 09:02:08 AM</td>\n",
              "      <td>10999071</td>\n",
              "      <td>4</td>\n",
              "      <td>4</td>\n",
              "      <td>550.0</td>\n",
              "      <td>494.0</td>\n",
              "      <td>550.0</td>\n",
              "      <td>0.0</td>\n",
              "      <td>137.500000</td>\n",
              "      <td>275.000000</td>\n",
              "      <td>494.0</td>\n",
              "      <td>0.0</td>\n",
              "      <td>123.5</td>\n",
              "      <td>247.0</td>\n",
              "      <td>94.917107</td>\n",
              "      <td>0.727334</td>\n",
              "      <td>1.571296e+06</td>\n",
              "      <td>2.698638e+06</td>\n",
              "      <td>5994742.0</td>\n",
              "      <td>18.0</td>\n",
              "      <td>5994897.0</td>\n",
              "      <td>1.998299e+06</td>\n",
              "      <td>3.461062e+06</td>\n",
              "      <td>5994789.0</td>\n",
              "      <td>54.0</td>\n",
              "      <td>10999041.0</td>\n",
              "      <td>3.666347e+06</td>\n",
              "      <td>3.213462e+06</td>\n",
              "      <td>5994742.0</td>\n",
              "      <td>96.0</td>\n",
              "      <td>0</td>\n",
              "      <td>0</td>\n",
              "      <td>0</td>\n",
              "      <td>...</td>\n",
              "      <td>0.0</td>\n",
              "      <td>550.0</td>\n",
              "      <td>116.000000</td>\n",
              "      <td>230.605724</td>\n",
              "      <td>53179.000000</td>\n",
              "      <td>1</td>\n",
              "      <td>2</td>\n",
              "      <td>0</td>\n",
              "      <td>2</td>\n",
              "      <td>7</td>\n",
              "      <td>0</td>\n",
              "      <td>0</td>\n",
              "      <td>0</td>\n",
              "      <td>1.0</td>\n",
              "      <td>130.500000</td>\n",
              "      <td>137.500000</td>\n",
              "      <td>123.5</td>\n",
              "      <td>0</td>\n",
              "      <td>0</td>\n",
              "      <td>0</td>\n",
              "      <td>0</td>\n",
              "      <td>0</td>\n",
              "      <td>0</td>\n",
              "      <td>0</td>\n",
              "      <td>68</td>\n",
              "      <td>0</td>\n",
              "      <td>61</td>\n",
              "      <td>29200</td>\n",
              "      <td>235</td>\n",
              "      <td>1</td>\n",
              "      <td>32</td>\n",
              "      <td>77.5</td>\n",
              "      <td>68.589358</td>\n",
              "      <td>126.0</td>\n",
              "      <td>29.0</td>\n",
              "      <td>5.093676e+14</td>\n",
              "      <td>8.822506e+14</td>\n",
              "      <td>1.528103e+15</td>\n",
              "      <td>5004174.0</td>\n",
              "      <td>DDoS_HTTP</td>\n",
              "    </tr>\n",
              "    <tr>\n",
              "      <th>6</th>\n",
              "      <td>6</td>\n",
              "      <td>192.168.100.148-192.168.100.3-55488-80-6</td>\n",
              "      <td>192.168.100.148</td>\n",
              "      <td>55488</td>\n",
              "      <td>192.168.100.3</td>\n",
              "      <td>80</td>\n",
              "      <td>6</td>\n",
              "      <td>04/06/2018 09:02:10 AM</td>\n",
              "      <td>9809150</td>\n",
              "      <td>4</td>\n",
              "      <td>4</td>\n",
              "      <td>400.0</td>\n",
              "      <td>494.0</td>\n",
              "      <td>400.0</td>\n",
              "      <td>0.0</td>\n",
              "      <td>100.000000</td>\n",
              "      <td>200.000000</td>\n",
              "      <td>494.0</td>\n",
              "      <td>0.0</td>\n",
              "      <td>123.5</td>\n",
              "      <td>247.0</td>\n",
              "      <td>91.139395</td>\n",
              "      <td>0.815565</td>\n",
              "      <td>1.401307e+06</td>\n",
              "      <td>2.393803e+06</td>\n",
              "      <td>5002140.0</td>\n",
              "      <td>21.0</td>\n",
              "      <td>4807010.0</td>\n",
              "      <td>1.602337e+06</td>\n",
              "      <td>2.775263e+06</td>\n",
              "      <td>4806934.0</td>\n",
              "      <td>32.0</td>\n",
              "      <td>9809129.0</td>\n",
              "      <td>3.269710e+06</td>\n",
              "      <td>2.833269e+06</td>\n",
              "      <td>5002185.0</td>\n",
              "      <td>76.0</td>\n",
              "      <td>0</td>\n",
              "      <td>0</td>\n",
              "      <td>0</td>\n",
              "      <td>...</td>\n",
              "      <td>0.0</td>\n",
              "      <td>494.0</td>\n",
              "      <td>99.333333</td>\n",
              "      <td>198.504408</td>\n",
              "      <td>39404.000000</td>\n",
              "      <td>1</td>\n",
              "      <td>2</td>\n",
              "      <td>0</td>\n",
              "      <td>2</td>\n",
              "      <td>7</td>\n",
              "      <td>0</td>\n",
              "      <td>0</td>\n",
              "      <td>0</td>\n",
              "      <td>1.0</td>\n",
              "      <td>111.750000</td>\n",
              "      <td>100.000000</td>\n",
              "      <td>123.5</td>\n",
              "      <td>0</td>\n",
              "      <td>0</td>\n",
              "      <td>0</td>\n",
              "      <td>0</td>\n",
              "      <td>0</td>\n",
              "      <td>0</td>\n",
              "      <td>0</td>\n",
              "      <td>50</td>\n",
              "      <td>0</td>\n",
              "      <td>61</td>\n",
              "      <td>29200</td>\n",
              "      <td>235</td>\n",
              "      <td>1</td>\n",
              "      <td>32</td>\n",
              "      <td>4807010.0</td>\n",
              "      <td>0.000000</td>\n",
              "      <td>4807010.0</td>\n",
              "      <td>4807010.0</td>\n",
              "      <td>7.640515e+14</td>\n",
              "      <td>1.080532e+15</td>\n",
              "      <td>1.528103e+15</td>\n",
              "      <td>5002140.0</td>\n",
              "      <td>DDoS_HTTP</td>\n",
              "    </tr>\n",
              "    <tr>\n",
              "      <th>7</th>\n",
              "      <td>7</td>\n",
              "      <td>192.168.100.147-192.168.100.3-57250-80-6</td>\n",
              "      <td>192.168.100.147</td>\n",
              "      <td>57250</td>\n",
              "      <td>192.168.100.3</td>\n",
              "      <td>80</td>\n",
              "      <td>6</td>\n",
              "      <td>04/06/2018 09:02:14 AM</td>\n",
              "      <td>10821596</td>\n",
              "      <td>4</td>\n",
              "      <td>4</td>\n",
              "      <td>395.0</td>\n",
              "      <td>494.0</td>\n",
              "      <td>395.0</td>\n",
              "      <td>0.0</td>\n",
              "      <td>98.750000</td>\n",
              "      <td>197.500000</td>\n",
              "      <td>494.0</td>\n",
              "      <td>0.0</td>\n",
              "      <td>123.5</td>\n",
              "      <td>247.0</td>\n",
              "      <td>82.150544</td>\n",
              "      <td>0.739262</td>\n",
              "      <td>1.545942e+06</td>\n",
              "      <td>2.650680e+06</td>\n",
              "      <td>5819654.0</td>\n",
              "      <td>18.0</td>\n",
              "      <td>5819816.0</td>\n",
              "      <td>1.939939e+06</td>\n",
              "      <td>3.359991e+06</td>\n",
              "      <td>5819722.0</td>\n",
              "      <td>24.0</td>\n",
              "      <td>10821562.0</td>\n",
              "      <td>3.607187e+06</td>\n",
              "      <td>3.150498e+06</td>\n",
              "      <td>5819654.0</td>\n",
              "      <td>78.0</td>\n",
              "      <td>0</td>\n",
              "      <td>0</td>\n",
              "      <td>0</td>\n",
              "      <td>...</td>\n",
              "      <td>0.0</td>\n",
              "      <td>494.0</td>\n",
              "      <td>98.777778</td>\n",
              "      <td>197.562508</td>\n",
              "      <td>39030.944444</td>\n",
              "      <td>1</td>\n",
              "      <td>2</td>\n",
              "      <td>0</td>\n",
              "      <td>2</td>\n",
              "      <td>7</td>\n",
              "      <td>0</td>\n",
              "      <td>0</td>\n",
              "      <td>0</td>\n",
              "      <td>1.0</td>\n",
              "      <td>111.125000</td>\n",
              "      <td>98.750000</td>\n",
              "      <td>123.5</td>\n",
              "      <td>0</td>\n",
              "      <td>0</td>\n",
              "      <td>0</td>\n",
              "      <td>0</td>\n",
              "      <td>0</td>\n",
              "      <td>0</td>\n",
              "      <td>0</td>\n",
              "      <td>49</td>\n",
              "      <td>0</td>\n",
              "      <td>61</td>\n",
              "      <td>29200</td>\n",
              "      <td>235</td>\n",
              "      <td>1</td>\n",
              "      <td>32</td>\n",
              "      <td>81.0</td>\n",
              "      <td>43.840620</td>\n",
              "      <td>112.0</td>\n",
              "      <td>50.0</td>\n",
              "      <td>5.093676e+14</td>\n",
              "      <td>8.822506e+14</td>\n",
              "      <td>1.528103e+15</td>\n",
              "      <td>5001780.0</td>\n",
              "      <td>DDoS_HTTP</td>\n",
              "    </tr>\n",
              "    <tr>\n",
              "      <th>8</th>\n",
              "      <td>8</td>\n",
              "      <td>192.168.100.149-192.168.100.3-41808-80-6</td>\n",
              "      <td>192.168.100.149</td>\n",
              "      <td>41808</td>\n",
              "      <td>192.168.100.3</td>\n",
              "      <td>80</td>\n",
              "      <td>6</td>\n",
              "      <td>04/06/2018 09:02:14 AM</td>\n",
              "      <td>11936087</td>\n",
              "      <td>4</td>\n",
              "      <td>4</td>\n",
              "      <td>338.0</td>\n",
              "      <td>494.0</td>\n",
              "      <td>338.0</td>\n",
              "      <td>0.0</td>\n",
              "      <td>84.500000</td>\n",
              "      <td>169.000000</td>\n",
              "      <td>494.0</td>\n",
              "      <td>0.0</td>\n",
              "      <td>123.5</td>\n",
              "      <td>247.0</td>\n",
              "      <td>69.704586</td>\n",
              "      <td>0.670236</td>\n",
              "      <td>1.705155e+06</td>\n",
              "      <td>2.964850e+06</td>\n",
              "      <td>6933794.0</td>\n",
              "      <td>32.0</td>\n",
              "      <td>6934347.0</td>\n",
              "      <td>2.311449e+06</td>\n",
              "      <td>4.003208e+06</td>\n",
              "      <td>6933955.0</td>\n",
              "      <td>88.0</td>\n",
              "      <td>11936036.0</td>\n",
              "      <td>3.978679e+06</td>\n",
              "      <td>3.578166e+06</td>\n",
              "      <td>6933794.0</td>\n",
              "      <td>373.0</td>\n",
              "      <td>0</td>\n",
              "      <td>0</td>\n",
              "      <td>0</td>\n",
              "      <td>...</td>\n",
              "      <td>0.0</td>\n",
              "      <td>494.0</td>\n",
              "      <td>92.444444</td>\n",
              "      <td>187.538737</td>\n",
              "      <td>35170.777778</td>\n",
              "      <td>1</td>\n",
              "      <td>2</td>\n",
              "      <td>0</td>\n",
              "      <td>2</td>\n",
              "      <td>7</td>\n",
              "      <td>0</td>\n",
              "      <td>0</td>\n",
              "      <td>0</td>\n",
              "      <td>1.0</td>\n",
              "      <td>104.000000</td>\n",
              "      <td>84.500000</td>\n",
              "      <td>123.5</td>\n",
              "      <td>0</td>\n",
              "      <td>0</td>\n",
              "      <td>0</td>\n",
              "      <td>0</td>\n",
              "      <td>0</td>\n",
              "      <td>0</td>\n",
              "      <td>0</td>\n",
              "      <td>42</td>\n",
              "      <td>0</td>\n",
              "      <td>61</td>\n",
              "      <td>29200</td>\n",
              "      <td>235</td>\n",
              "      <td>1</td>\n",
              "      <td>32</td>\n",
              "      <td>276.5</td>\n",
              "      <td>208.596500</td>\n",
              "      <td>424.0</td>\n",
              "      <td>129.0</td>\n",
              "      <td>5.093676e+14</td>\n",
              "      <td>8.822506e+14</td>\n",
              "      <td>1.528103e+15</td>\n",
              "      <td>5001740.0</td>\n",
              "      <td>DDoS_HTTP</td>\n",
              "    </tr>\n",
              "    <tr>\n",
              "      <th>9</th>\n",
              "      <td>9</td>\n",
              "      <td>192.168.100.149-192.168.100.3-41872-80-6</td>\n",
              "      <td>192.168.100.149</td>\n",
              "      <td>41872</td>\n",
              "      <td>192.168.100.3</td>\n",
              "      <td>80</td>\n",
              "      <td>6</td>\n",
              "      <td>04/06/2018 09:02:14 AM</td>\n",
              "      <td>11993384</td>\n",
              "      <td>4</td>\n",
              "      <td>4</td>\n",
              "      <td>632.0</td>\n",
              "      <td>494.0</td>\n",
              "      <td>632.0</td>\n",
              "      <td>0.0</td>\n",
              "      <td>158.000000</td>\n",
              "      <td>316.000000</td>\n",
              "      <td>494.0</td>\n",
              "      <td>0.0</td>\n",
              "      <td>123.5</td>\n",
              "      <td>247.0</td>\n",
              "      <td>93.885095</td>\n",
              "      <td>0.667034</td>\n",
              "      <td>1.713341e+06</td>\n",
              "      <td>2.981542e+06</td>\n",
              "      <td>6988339.0</td>\n",
              "      <td>15.0</td>\n",
              "      <td>6988444.0</td>\n",
              "      <td>2.329481e+06</td>\n",
              "      <td>4.034725e+06</td>\n",
              "      <td>6988380.0</td>\n",
              "      <td>15.0</td>\n",
              "      <td>11993362.0</td>\n",
              "      <td>3.997787e+06</td>\n",
              "      <td>3.601361e+06</td>\n",
              "      <td>6988339.0</td>\n",
              "      <td>63.0</td>\n",
              "      <td>0</td>\n",
              "      <td>0</td>\n",
              "      <td>0</td>\n",
              "      <td>...</td>\n",
              "      <td>0.0</td>\n",
              "      <td>632.0</td>\n",
              "      <td>125.111111</td>\n",
              "      <td>250.645389</td>\n",
              "      <td>62823.111111</td>\n",
              "      <td>1</td>\n",
              "      <td>2</td>\n",
              "      <td>0</td>\n",
              "      <td>2</td>\n",
              "      <td>7</td>\n",
              "      <td>0</td>\n",
              "      <td>0</td>\n",
              "      <td>0</td>\n",
              "      <td>1.0</td>\n",
              "      <td>140.750000</td>\n",
              "      <td>158.000000</td>\n",
              "      <td>123.5</td>\n",
              "      <td>0</td>\n",
              "      <td>0</td>\n",
              "      <td>0</td>\n",
              "      <td>0</td>\n",
              "      <td>0</td>\n",
              "      <td>0</td>\n",
              "      <td>0</td>\n",
              "      <td>79</td>\n",
              "      <td>0</td>\n",
              "      <td>61</td>\n",
              "      <td>29200</td>\n",
              "      <td>237</td>\n",
              "      <td>1</td>\n",
              "      <td>32</td>\n",
              "      <td>52.5</td>\n",
              "      <td>45.961941</td>\n",
              "      <td>85.0</td>\n",
              "      <td>20.0</td>\n",
              "      <td>5.093676e+14</td>\n",
              "      <td>8.822506e+14</td>\n",
              "      <td>1.528103e+15</td>\n",
              "      <td>5004940.0</td>\n",
              "      <td>DDoS_HTTP</td>\n",
              "    </tr>\n",
              "  </tbody>\n",
              "</table>\n",
              "<p>10 rows × 85 columns</p>\n",
              "</div>"
            ],
            "text/plain": [
              "   Unnamed: 0                                   Flow ID  ...   Idle Min      Label\n",
              "0           0  192.168.100.149-192.168.100.3-41664-80-6  ...  5001345.0  DDoS_HTTP\n",
              "1           1  192.168.100.147-192.168.100.3-57106-80-6  ...  5004299.0  DDoS_HTTP\n",
              "2           2  192.168.100.147-192.168.100.3-57110-80-6  ...  5003051.0  DDoS_HTTP\n",
              "3           3  192.168.100.150-192.168.100.3-54328-80-6  ...  5001836.0  DDoS_HTTP\n",
              "4           4  192.168.100.150-192.168.100.3-54368-80-6  ...  5001641.0  DDoS_HTTP\n",
              "5           5  192.168.100.150-192.168.100.3-54428-80-6  ...  5004174.0  DDoS_HTTP\n",
              "6           6  192.168.100.148-192.168.100.3-55488-80-6  ...  5002140.0  DDoS_HTTP\n",
              "7           7  192.168.100.147-192.168.100.3-57250-80-6  ...  5001780.0  DDoS_HTTP\n",
              "8           8  192.168.100.149-192.168.100.3-41808-80-6  ...  5001740.0  DDoS_HTTP\n",
              "9           9  192.168.100.149-192.168.100.3-41872-80-6  ...  5004940.0  DDoS_HTTP\n",
              "\n",
              "[10 rows x 85 columns]"
            ]
          },
          "metadata": {
            "tags": []
          },
          "execution_count": 7
        }
      ]
    }
  ]
}